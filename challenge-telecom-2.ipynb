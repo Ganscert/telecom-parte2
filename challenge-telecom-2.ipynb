{
  "cells": [
    {
      "cell_type": "code",
      "execution_count": 195,
      "metadata": {
        "id": "FEb9QtWEwDwU"
      },
      "outputs": [],
      "source": [
        "import pandas as pd\n",
        "import seaborn as sns\n",
        "import matplotlib.pyplot as plt\n"
      ]
    },
    {
      "cell_type": "markdown",
      "metadata": {
        "id": "o6PRPQJd2SEy"
      },
      "source": [
        "### Uso el archivo del anterior Challenges TelecomX1"
      ]
    },
    {
      "cell_type": "code",
      "execution_count": 196,
      "metadata": {
        "id": "1EqyKJuLxJg9"
      },
      "outputs": [],
      "source": [
        "TelecomX2 = pd.read_json('datos_TelecomX_Fla.json')"
      ]
    },
    {
      "cell_type": "code",
      "execution_count": 197,
      "metadata": {
        "colab": {
          "base_uri": "https://localhost:8080/"
        },
        "id": "_2QXsGWtxJdW",
        "outputId": "88d126e5-edc8-46f4-ff05-ce38480745bf"
      },
      "outputs": [
        {
          "name": "stdout",
          "output_type": "stream",
          "text": [
            "<class 'pandas.core.frame.DataFrame'>\n",
            "Index: 7267 entries, 0 to 7266\n",
            "Data columns (total 23 columns):\n",
            " #   Column                    Non-Null Count  Dtype  \n",
            "---  ------                    --------------  -----  \n",
            " 0   customerID                7267 non-null   object \n",
            " 1   Churn                     7267 non-null   int64  \n",
            " 2   gender                    7267 non-null   object \n",
            " 3   SeniorCitizen             7267 non-null   int64  \n",
            " 4   Partner                   7267 non-null   int64  \n",
            " 5   Dependents                7267 non-null   int64  \n",
            " 6   tenure                    7267 non-null   int64  \n",
            " 7   PhoneService              7267 non-null   int64  \n",
            " 8   MultipleLines             7267 non-null   int64  \n",
            " 9   InternetService           7267 non-null   object \n",
            " 10  OnlineSecurity            7267 non-null   int64  \n",
            " 11  OnlineBackup              7267 non-null   int64  \n",
            " 12  DeviceProtection          7267 non-null   int64  \n",
            " 13  TechSupport               7267 non-null   int64  \n",
            " 14  StreamingTV               7267 non-null   int64  \n",
            " 15  StreamingMovies           7267 non-null   int64  \n",
            " 16  Contract                  7267 non-null   object \n",
            " 17  PaperlessBilling          7267 non-null   int64  \n",
            " 18  PaymentMethod             7267 non-null   object \n",
            " 19  Charges.Monthly           7267 non-null   float64\n",
            " 20  Charges.Total             7267 non-null   float64\n",
            " 21  Facturacion_Total_Diaria  7267 non-null   float64\n",
            " 22  Cuentas_Diarias           7267 non-null   float64\n",
            "dtypes: float64(4), int64(14), object(5)\n",
            "memory usage: 1.3+ MB\n"
          ]
        }
      ],
      "source": [
        "TelecomX2.info()"
      ]
    },
    {
      "cell_type": "code",
      "execution_count": 198,
      "metadata": {
        "colab": {
          "base_uri": "https://localhost:8080/"
        },
        "id": "LgEBRT7EL-j6",
        "outputId": "7c66f9f6-37b8-443d-f37b-cdb96f8a10af"
      },
      "outputs": [
        {
          "name": "stdout",
          "output_type": "stream",
          "text": [
            "\n",
            "VALORES ÚNICOS EN CHURN:\n",
            "==================================================\n",
            "Churn\n",
            "0    5398\n",
            "1    1869\n",
            "Name: count, dtype: int64\n"
          ]
        }
      ],
      "source": [
        "# Verificar valores únicos en Churn (incluyendo cadenas vacías)\n",
        "print(\"\\nVALORES ÚNICOS EN CHURN:\")\n",
        "print(\"=\" * 50)\n",
        "churn_counts = TelecomX2['Churn'].value_counts(dropna=False)\n",
        "print(churn_counts)"
      ]
    },
    {
      "cell_type": "code",
      "execution_count": 199,
      "metadata": {
        "id": "AmQQMpb8zHeS"
      },
      "outputs": [],
      "source": [
        "TelecomX2 = TelecomX2.drop(['customerID','Facturacion_Total_Diaria','Cuentas_Diarias'], axis=1)"
      ]
    },
    {
      "cell_type": "code",
      "execution_count": 200,
      "metadata": {
        "colab": {
          "base_uri": "https://localhost:8080/",
          "height": 150
        },
        "id": "6IPHzvnvzHZ1",
        "outputId": "9e291c99-be56-40b0-c644-6094570b2b25"
      },
      "outputs": [
        {
          "data": {
            "text/html": [
              "<div>\n",
              "<style scoped>\n",
              "    .dataframe tbody tr th:only-of-type {\n",
              "        vertical-align: middle;\n",
              "    }\n",
              "\n",
              "    .dataframe tbody tr th {\n",
              "        vertical-align: top;\n",
              "    }\n",
              "\n",
              "    .dataframe thead th {\n",
              "        text-align: right;\n",
              "    }\n",
              "</style>\n",
              "<table border=\"1\" class=\"dataframe\">\n",
              "  <thead>\n",
              "    <tr style=\"text-align: right;\">\n",
              "      <th></th>\n",
              "      <th>Churn</th>\n",
              "      <th>gender</th>\n",
              "      <th>SeniorCitizen</th>\n",
              "      <th>Partner</th>\n",
              "      <th>Dependents</th>\n",
              "      <th>tenure</th>\n",
              "      <th>PhoneService</th>\n",
              "      <th>MultipleLines</th>\n",
              "      <th>InternetService</th>\n",
              "      <th>OnlineSecurity</th>\n",
              "      <th>OnlineBackup</th>\n",
              "      <th>DeviceProtection</th>\n",
              "      <th>TechSupport</th>\n",
              "      <th>StreamingTV</th>\n",
              "      <th>StreamingMovies</th>\n",
              "      <th>Contract</th>\n",
              "      <th>PaperlessBilling</th>\n",
              "      <th>PaymentMethod</th>\n",
              "      <th>Charges.Monthly</th>\n",
              "      <th>Charges.Total</th>\n",
              "    </tr>\n",
              "  </thead>\n",
              "  <tbody>\n",
              "    <tr>\n",
              "      <th>0</th>\n",
              "      <td>0</td>\n",
              "      <td>Female</td>\n",
              "      <td>0</td>\n",
              "      <td>1</td>\n",
              "      <td>1</td>\n",
              "      <td>9</td>\n",
              "      <td>1</td>\n",
              "      <td>0</td>\n",
              "      <td>DSL</td>\n",
              "      <td>0</td>\n",
              "      <td>1</td>\n",
              "      <td>0</td>\n",
              "      <td>1</td>\n",
              "      <td>1</td>\n",
              "      <td>0</td>\n",
              "      <td>One year</td>\n",
              "      <td>1</td>\n",
              "      <td>Mailed check</td>\n",
              "      <td>65.6</td>\n",
              "      <td>593.3</td>\n",
              "    </tr>\n",
              "    <tr>\n",
              "      <th>1</th>\n",
              "      <td>0</td>\n",
              "      <td>Male</td>\n",
              "      <td>0</td>\n",
              "      <td>0</td>\n",
              "      <td>0</td>\n",
              "      <td>9</td>\n",
              "      <td>1</td>\n",
              "      <td>1</td>\n",
              "      <td>DSL</td>\n",
              "      <td>0</td>\n",
              "      <td>0</td>\n",
              "      <td>0</td>\n",
              "      <td>0</td>\n",
              "      <td>0</td>\n",
              "      <td>1</td>\n",
              "      <td>Month-to-month</td>\n",
              "      <td>0</td>\n",
              "      <td>Mailed check</td>\n",
              "      <td>59.9</td>\n",
              "      <td>542.4</td>\n",
              "    </tr>\n",
              "  </tbody>\n",
              "</table>\n",
              "</div>"
            ],
            "text/plain": [
              "   Churn  gender  SeniorCitizen  Partner  Dependents  tenure  PhoneService  \\\n",
              "0      0  Female              0        1           1       9             1   \n",
              "1      0    Male              0        0           0       9             1   \n",
              "\n",
              "   MultipleLines InternetService  OnlineSecurity  OnlineBackup  \\\n",
              "0              0             DSL               0             1   \n",
              "1              1             DSL               0             0   \n",
              "\n",
              "   DeviceProtection  TechSupport  StreamingTV  StreamingMovies  \\\n",
              "0                 0            1            1                0   \n",
              "1                 0            0            0                1   \n",
              "\n",
              "         Contract  PaperlessBilling PaymentMethod  Charges.Monthly  \\\n",
              "0        One year                 1  Mailed check             65.6   \n",
              "1  Month-to-month                 0  Mailed check             59.9   \n",
              "\n",
              "   Charges.Total  \n",
              "0          593.3  \n",
              "1          542.4  "
            ]
          },
          "execution_count": 200,
          "metadata": {},
          "output_type": "execute_result"
        }
      ],
      "source": [
        "TelecomX2.head(2)"
      ]
    },
    {
      "cell_type": "code",
      "execution_count": 201,
      "metadata": {
        "colab": {
          "base_uri": "https://localhost:8080/"
        },
        "id": "SZIoyutAzHUY",
        "outputId": "0e2cacd6-924f-4f5d-ebd9-c13d09f2fa5d"
      },
      "outputs": [
        {
          "name": "stdout",
          "output_type": "stream",
          "text": [
            "<class 'pandas.core.frame.DataFrame'>\n",
            "Index: 7267 entries, 0 to 7266\n",
            "Data columns (total 20 columns):\n",
            " #   Column            Non-Null Count  Dtype  \n",
            "---  ------            --------------  -----  \n",
            " 0   Churn             7267 non-null   int64  \n",
            " 1   gender            7267 non-null   object \n",
            " 2   SeniorCitizen     7267 non-null   int64  \n",
            " 3   Partner           7267 non-null   int64  \n",
            " 4   Dependents        7267 non-null   int64  \n",
            " 5   tenure            7267 non-null   int64  \n",
            " 6   PhoneService      7267 non-null   int64  \n",
            " 7   MultipleLines     7267 non-null   int64  \n",
            " 8   InternetService   7267 non-null   object \n",
            " 9   OnlineSecurity    7267 non-null   int64  \n",
            " 10  OnlineBackup      7267 non-null   int64  \n",
            " 11  DeviceProtection  7267 non-null   int64  \n",
            " 12  TechSupport       7267 non-null   int64  \n",
            " 13  StreamingTV       7267 non-null   int64  \n",
            " 14  StreamingMovies   7267 non-null   int64  \n",
            " 15  Contract          7267 non-null   object \n",
            " 16  PaperlessBilling  7267 non-null   int64  \n",
            " 17  PaymentMethod     7267 non-null   object \n",
            " 18  Charges.Monthly   7267 non-null   float64\n",
            " 19  Charges.Total     7267 non-null   float64\n",
            "dtypes: float64(2), int64(14), object(4)\n",
            "memory usage: 1.2+ MB\n"
          ]
        }
      ],
      "source": [
        "TelecomX2.info()"
      ]
    },
    {
      "cell_type": "markdown",
      "metadata": {
        "id": "ErQvfC9EYpFU"
      },
      "source": [
        "### Modificamos las columnas object a numéricas"
      ]
    },
    {
      "cell_type": "code",
      "execution_count": 202,
      "metadata": {
        "colab": {
          "base_uri": "https://localhost:8080/",
          "height": 179
        },
        "id": "Ea2XsLSZIzNC",
        "outputId": "d5b7ad28-1d26-463e-c847-0a115c4c89bc"
      },
      "outputs": [
        {
          "data": {
            "text/plain": [
              "gender\n",
              "Male      3675\n",
              "Female    3592\n",
              "Name: count, dtype: int64"
            ]
          },
          "execution_count": 202,
          "metadata": {},
          "output_type": "execute_result"
        }
      ],
      "source": [
        "TelecomX2['gender'].value_counts()"
      ]
    },
    {
      "cell_type": "code",
      "execution_count": 203,
      "metadata": {
        "id": "uljiIAfPdotT"
      },
      "outputs": [],
      "source": [
        "TelecomX2['gender']= TelecomX2['gender'].replace({'Male':0,'Female':1})"
      ]
    },
    {
      "cell_type": "code",
      "execution_count": 204,
      "metadata": {
        "colab": {
          "base_uri": "https://localhost:8080/",
          "height": 210
        },
        "id": "wvTmfiO49je1",
        "outputId": "36c724ee-4f17-414a-a677-1dd31508f794"
      },
      "outputs": [
        {
          "data": {
            "text/plain": [
              "InternetService\n",
              "Fiber optic    3198\n",
              "DSL            2488\n",
              "No             1581\n",
              "Name: count, dtype: int64"
            ]
          },
          "execution_count": 204,
          "metadata": {},
          "output_type": "execute_result"
        }
      ],
      "source": [
        "TelecomX2['InternetService'].value_counts()"
      ]
    },
    {
      "cell_type": "code",
      "execution_count": 205,
      "metadata": {
        "id": "8lmwTufMeF6a"
      },
      "outputs": [],
      "source": [
        "TelecomX2['InternetService']= TelecomX2['InternetService'].replace({'Fiber optic':0,'DSL':1,'No':2})"
      ]
    },
    {
      "cell_type": "code",
      "execution_count": 206,
      "metadata": {
        "colab": {
          "base_uri": "https://localhost:8080/",
          "height": 210
        },
        "id": "j393_uzU9ja5",
        "outputId": "6638e94b-567f-4796-a541-b89dddd7c50d"
      },
      "outputs": [
        {
          "data": {
            "text/plain": [
              "Contract\n",
              "Month-to-month    4005\n",
              "Two year          1743\n",
              "One year          1519\n",
              "Name: count, dtype: int64"
            ]
          },
          "execution_count": 206,
          "metadata": {},
          "output_type": "execute_result"
        }
      ],
      "source": [
        "TelecomX2['Contract'].value_counts()"
      ]
    },
    {
      "cell_type": "code",
      "execution_count": 207,
      "metadata": {
        "id": "R9bAw3g3e7Vl"
      },
      "outputs": [],
      "source": [
        "TelecomX2['Contract']= TelecomX2['Contract'].replace({'Month-to-month':0,'Two year':1,'One year':2})"
      ]
    },
    {
      "cell_type": "code",
      "execution_count": 208,
      "metadata": {
        "colab": {
          "base_uri": "https://localhost:8080/",
          "height": 241
        },
        "id": "eWjsb35K1p2J",
        "outputId": "0af71fc6-798b-4337-d841-e52f38a0a996"
      },
      "outputs": [
        {
          "data": {
            "text/plain": [
              "PaymentMethod\n",
              "Electronic check             2445\n",
              "Mailed check                 1665\n",
              "Bank transfer (automatic)    1589\n",
              "Credit card (automatic)      1568\n",
              "Name: count, dtype: int64"
            ]
          },
          "execution_count": 208,
          "metadata": {},
          "output_type": "execute_result"
        }
      ],
      "source": [
        "TelecomX2['PaymentMethod'].value_counts()"
      ]
    },
    {
      "cell_type": "code",
      "execution_count": 209,
      "metadata": {
        "id": "diLH9UwlfiQE"
      },
      "outputs": [],
      "source": [
        "TelecomX2['PaymentMethod']= TelecomX2['PaymentMethod'].replace({'Electronic check':0,'Mailed check':1,'Bank transfer (automatic)':2,'Credit card (automatic)':3})"
      ]
    },
    {
      "cell_type": "markdown",
      "metadata": {
        "id": "6IuxVrmk19iv"
      },
      "source": [
        "### Todas las variables son numéricas"
      ]
    },
    {
      "cell_type": "code",
      "execution_count": 210,
      "metadata": {
        "colab": {
          "base_uri": "https://localhost:8080/"
        },
        "id": "XblyI3KOxJIR",
        "outputId": "8390450f-5c8b-4010-9636-0db243564118"
      },
      "outputs": [
        {
          "name": "stdout",
          "output_type": "stream",
          "text": [
            "<class 'pandas.core.frame.DataFrame'>\n",
            "Index: 7267 entries, 0 to 7266\n",
            "Data columns (total 20 columns):\n",
            " #   Column            Non-Null Count  Dtype  \n",
            "---  ------            --------------  -----  \n",
            " 0   Churn             7267 non-null   int64  \n",
            " 1   gender            7267 non-null   int64  \n",
            " 2   SeniorCitizen     7267 non-null   int64  \n",
            " 3   Partner           7267 non-null   int64  \n",
            " 4   Dependents        7267 non-null   int64  \n",
            " 5   tenure            7267 non-null   int64  \n",
            " 6   PhoneService      7267 non-null   int64  \n",
            " 7   MultipleLines     7267 non-null   int64  \n",
            " 8   InternetService   7267 non-null   int64  \n",
            " 9   OnlineSecurity    7267 non-null   int64  \n",
            " 10  OnlineBackup      7267 non-null   int64  \n",
            " 11  DeviceProtection  7267 non-null   int64  \n",
            " 12  TechSupport       7267 non-null   int64  \n",
            " 13  StreamingTV       7267 non-null   int64  \n",
            " 14  StreamingMovies   7267 non-null   int64  \n",
            " 15  Contract          7267 non-null   int64  \n",
            " 16  PaperlessBilling  7267 non-null   int64  \n",
            " 17  PaymentMethod     7267 non-null   int64  \n",
            " 18  Charges.Monthly   7267 non-null   float64\n",
            " 19  Charges.Total     7267 non-null   float64\n",
            "dtypes: float64(2), int64(18)\n",
            "memory usage: 1.2 MB\n"
          ]
        }
      ],
      "source": [
        "TelecomX2.info()"
      ]
    },
    {
      "cell_type": "code",
      "execution_count": 211,
      "metadata": {
        "id": "clzKjUUbxJD5"
      },
      "outputs": [],
      "source": [
        "X = TelecomX2.drop('Churn', axis=1)\n",
        "y = TelecomX2['Churn']"
      ]
    },
    {
      "cell_type": "code",
      "execution_count": 212,
      "metadata": {
        "colab": {
          "base_uri": "https://localhost:8080/",
          "height": 133
        },
        "id": "kSgVZC4bxI_f",
        "outputId": "f98978fd-29c3-44d3-e919-aed1c7b4b197"
      },
      "outputs": [
        {
          "data": {
            "text/html": [
              "<div>\n",
              "<style scoped>\n",
              "    .dataframe tbody tr th:only-of-type {\n",
              "        vertical-align: middle;\n",
              "    }\n",
              "\n",
              "    .dataframe tbody tr th {\n",
              "        vertical-align: top;\n",
              "    }\n",
              "\n",
              "    .dataframe thead th {\n",
              "        text-align: right;\n",
              "    }\n",
              "</style>\n",
              "<table border=\"1\" class=\"dataframe\">\n",
              "  <thead>\n",
              "    <tr style=\"text-align: right;\">\n",
              "      <th></th>\n",
              "      <th>gender</th>\n",
              "      <th>SeniorCitizen</th>\n",
              "      <th>Partner</th>\n",
              "      <th>Dependents</th>\n",
              "      <th>tenure</th>\n",
              "      <th>PhoneService</th>\n",
              "      <th>MultipleLines</th>\n",
              "      <th>InternetService</th>\n",
              "      <th>OnlineSecurity</th>\n",
              "      <th>OnlineBackup</th>\n",
              "      <th>DeviceProtection</th>\n",
              "      <th>TechSupport</th>\n",
              "      <th>StreamingTV</th>\n",
              "      <th>StreamingMovies</th>\n",
              "      <th>Contract</th>\n",
              "      <th>PaperlessBilling</th>\n",
              "      <th>PaymentMethod</th>\n",
              "      <th>Charges.Monthly</th>\n",
              "      <th>Charges.Total</th>\n",
              "    </tr>\n",
              "  </thead>\n",
              "  <tbody>\n",
              "    <tr>\n",
              "      <th>0</th>\n",
              "      <td>1</td>\n",
              "      <td>0</td>\n",
              "      <td>1</td>\n",
              "      <td>1</td>\n",
              "      <td>9</td>\n",
              "      <td>1</td>\n",
              "      <td>0</td>\n",
              "      <td>1</td>\n",
              "      <td>0</td>\n",
              "      <td>1</td>\n",
              "      <td>0</td>\n",
              "      <td>1</td>\n",
              "      <td>1</td>\n",
              "      <td>0</td>\n",
              "      <td>2</td>\n",
              "      <td>1</td>\n",
              "      <td>1</td>\n",
              "      <td>65.6</td>\n",
              "      <td>593.3</td>\n",
              "    </tr>\n",
              "    <tr>\n",
              "      <th>1</th>\n",
              "      <td>0</td>\n",
              "      <td>0</td>\n",
              "      <td>0</td>\n",
              "      <td>0</td>\n",
              "      <td>9</td>\n",
              "      <td>1</td>\n",
              "      <td>1</td>\n",
              "      <td>1</td>\n",
              "      <td>0</td>\n",
              "      <td>0</td>\n",
              "      <td>0</td>\n",
              "      <td>0</td>\n",
              "      <td>0</td>\n",
              "      <td>1</td>\n",
              "      <td>0</td>\n",
              "      <td>0</td>\n",
              "      <td>1</td>\n",
              "      <td>59.9</td>\n",
              "      <td>542.4</td>\n",
              "    </tr>\n",
              "  </tbody>\n",
              "</table>\n",
              "</div>"
            ],
            "text/plain": [
              "   gender  SeniorCitizen  Partner  Dependents  tenure  PhoneService  \\\n",
              "0       1              0        1           1       9             1   \n",
              "1       0              0        0           0       9             1   \n",
              "\n",
              "   MultipleLines  InternetService  OnlineSecurity  OnlineBackup  \\\n",
              "0              0                1               0             1   \n",
              "1              1                1               0             0   \n",
              "\n",
              "   DeviceProtection  TechSupport  StreamingTV  StreamingMovies  Contract  \\\n",
              "0                 0            1            1                0         2   \n",
              "1                 0            0            0                1         0   \n",
              "\n",
              "   PaperlessBilling  PaymentMethod  Charges.Monthly  Charges.Total  \n",
              "0                 1              1             65.6          593.3  \n",
              "1                 0              1             59.9          542.4  "
            ]
          },
          "execution_count": 212,
          "metadata": {},
          "output_type": "execute_result"
        }
      ],
      "source": [
        "X.head(2)\n"
      ]
    },
    {
      "cell_type": "code",
      "execution_count": 213,
      "metadata": {
        "colab": {
          "base_uri": "https://localhost:8080/"
        },
        "id": "Co6mcECRxI6p",
        "outputId": "93034b3b-6c57-46d7-b1c7-07a87ad9ee99"
      },
      "outputs": [
        {
          "name": "stdout",
          "output_type": "stream",
          "text": [
            "<class 'pandas.core.frame.DataFrame'>\n",
            "Index: 7267 entries, 0 to 7266\n",
            "Data columns (total 19 columns):\n",
            " #   Column            Non-Null Count  Dtype  \n",
            "---  ------            --------------  -----  \n",
            " 0   gender            7267 non-null   int64  \n",
            " 1   SeniorCitizen     7267 non-null   int64  \n",
            " 2   Partner           7267 non-null   int64  \n",
            " 3   Dependents        7267 non-null   int64  \n",
            " 4   tenure            7267 non-null   int64  \n",
            " 5   PhoneService      7267 non-null   int64  \n",
            " 6   MultipleLines     7267 non-null   int64  \n",
            " 7   InternetService   7267 non-null   int64  \n",
            " 8   OnlineSecurity    7267 non-null   int64  \n",
            " 9   OnlineBackup      7267 non-null   int64  \n",
            " 10  DeviceProtection  7267 non-null   int64  \n",
            " 11  TechSupport       7267 non-null   int64  \n",
            " 12  StreamingTV       7267 non-null   int64  \n",
            " 13  StreamingMovies   7267 non-null   int64  \n",
            " 14  Contract          7267 non-null   int64  \n",
            " 15  PaperlessBilling  7267 non-null   int64  \n",
            " 16  PaymentMethod     7267 non-null   int64  \n",
            " 17  Charges.Monthly   7267 non-null   float64\n",
            " 18  Charges.Total     7267 non-null   float64\n",
            "dtypes: float64(2), int64(17)\n",
            "memory usage: 1.1 MB\n"
          ]
        }
      ],
      "source": [
        "X.info()"
      ]
    },
    {
      "cell_type": "code",
      "execution_count": 214,
      "metadata": {
        "colab": {
          "base_uri": "https://localhost:8080/",
          "height": 147
        },
        "id": "pMnyV29ptocv",
        "outputId": "bb08082a-f161-4250-e00d-e5f57d41bfac"
      },
      "outputs": [
        {
          "data": {
            "text/plain": [
              "0    0\n",
              "1    0\n",
              "Name: Churn, dtype: int64"
            ]
          },
          "execution_count": 214,
          "metadata": {},
          "output_type": "execute_result"
        }
      ],
      "source": [
        "y.head(2)"
      ]
    },
    {
      "cell_type": "code",
      "execution_count": 215,
      "metadata": {
        "colab": {
          "base_uri": "https://localhost:8080/"
        },
        "id": "uz_T0A0ztxM2",
        "outputId": "eff11d5e-fcf5-4cc0-86ae-e5343e17a8ef"
      },
      "outputs": [
        {
          "name": "stdout",
          "output_type": "stream",
          "text": [
            "<class 'pandas.core.series.Series'>\n",
            "Index: 7267 entries, 0 to 7266\n",
            "Series name: Churn\n",
            "Non-Null Count  Dtype\n",
            "--------------  -----\n",
            "7267 non-null   int64\n",
            "dtypes: int64(1)\n",
            "memory usage: 113.5 KB\n"
          ]
        }
      ],
      "source": [
        "y.info()"
      ]
    },
    {
      "cell_type": "code",
      "execution_count": 216,
      "metadata": {
        "colab": {
          "base_uri": "https://localhost:8080/",
          "height": 179
        },
        "id": "6RTagIC6uHeL",
        "outputId": "d762f095-db1b-40fa-b172-f05d77eba943"
      },
      "outputs": [
        {
          "data": {
            "text/plain": [
              "Churn\n",
              "0    5398\n",
              "1    1869\n",
              "Name: count, dtype: int64"
            ]
          },
          "execution_count": 216,
          "metadata": {},
          "output_type": "execute_result"
        }
      ],
      "source": [
        "TelecomX2['Churn'].value_counts()"
      ]
    },
    {
      "cell_type": "markdown",
      "metadata": {
        "id": "xve3IH9pO6hm"
      },
      "source": [
        "### Correlación de variables numéricas con Churn"
      ]
    },
    {
      "cell_type": "code",
      "execution_count": 217,
      "metadata": {
        "colab": {
          "base_uri": "https://localhost:8080/",
          "height": 697
        },
        "id": "GkTfk466PMeF",
        "outputId": "961a068f-90d0-4365-8933-4fad520ad022"
      },
      "outputs": [
        {
          "data": {
            "image/png": "[encoded data removed]",
            "text/plain": [
              "<Figure size 1000x800 with 2 Axes>"
            ]
          },
          "metadata": {},
          "output_type": "display_data"
        }
      ],
      "source": [
        "# Seleccionar solo variables numéricas\n",
        "numericas = TelecomX2.select_dtypes(include=['int64', 'float64'])\n",
        "\n",
        "# Calcular matriz de correlación\n",
        "corr_matrix = numericas.corr()\n",
        "\n",
        "# Crear un mapa de calor de las correlaciones con Churn\n",
        "plt.figure(figsize=(10, 8))\n",
        "sns.heatmap(corr_matrix[['Churn']].sort_values(by='Churn', ascending=False),\n",
        "            annot=True, cmap='coolwarm', center=0)\n",
        "plt.title('Correlación de variables numéricas con Churn')\n",
        "plt.show()"
      ]
    },
    {
      "cell_type": "markdown",
      "metadata": {
        "id": "W5nGGGZHRKt4"
      },
      "source": [
        "## 📊 Variables correlacionadas con Churn\n",
        "\n",
        "### 🔺 Variables positivamente correlacionadas (a mayor valor → mayor probabilidad de cancelación)\n",
        "\n",
        "| Variable                  | Correlación | Interpretación                                                                 |\n",
        "|---------------------------|-------------|---------------------------------------------------------------------------------|\n",
        "| **Charges.Monthly**       | +0.19       | Clientes con facturas mensuales más altas tienden a cancelar, perciben bajo valor frente al costo. |\n",
        "| **PaperlessBilling**      | +0.19       | Los usuarios con facturación electrónica muestran mayor churn, posiblemente porque son perfiles más digitales y propensos a cambiar de proveedor. |\n",
        "| **SeniorCitizen**         | +0.15       | Los adultos mayores presentan una ligera mayor probabilidad de cancelar, posiblemente por ingresos fijos o afinidad tecnológica reducida. |\n",
        "| **StreamingTV / Movies**  | +0.06       | El uso de servicios de streaming no asegura fidelidad; puede reflejar clientes más exigentes. |\n",
        "| **MultipleLines**         | +0.04       | Disponer de múltiples líneas no garantiza retención, fácilmente reemplazable por promociones de la competencia. |\n",
        "| **PhoneService / gender** | +0.01       | Impacto prácticamente nulo, sin relevancia en la cancelación. |\n",
        "\n",
        "**👉 Resumen**: Los clientes con facturas más altas, facturación electrónica y servicios digitales activos tienden a mostrar mayor probabilidad de cancelar.  \n",
        "\n",
        "---\n",
        "\n",
        "### 🔻 Variables negativamente correlacionadas (a mayor valor → menor probabilidad de cancelación)\n",
        "\n",
        "| Variable                  | Correlación | Interpretación                                                                 |\n",
        "|---------------------------|-------------|---------------------------------------------------------------------------------|\n",
        "| **tenure**                | -0.34       | Cuanto mayor es la antigüedad del cliente, menor la probabilidad de abandono. |\n",
        "| **Contract**              | -0.33       | Los contratos a plazo fijo reducen considerablemente el churn, mostrando efecto de compromiso. |\n",
        "| **InternetService**       | -0.31       | Servicios de mayor calidad, como fibra óptica, se asocian con menor abandono. |\n",
        "| **PaymentMethod**         | -0.26       | Métodos estables, como débito automático, disminuyen el churn. |\n",
        "| **Charges.Total**         | -0.19       | Clientes que ya han invertido más en la empresa tienden a mantenerse (efecto de “inversión previa”). |\n",
        "| **OnlineSecurity / TechSupport** | -0.16 | Servicios de soporte y seguridad aumentan satisfacción y reducen cancelación. |\n",
        "| **Partner / Dependents**  | -0.15       | Clientes con pareja o dependientes muestran mayor estabilidad, posiblemente por razones económicas y familiares. |\n",
        "\n",
        "**👉 Resumen**: La lealtad aumenta con el tiempo, los contratos fijos, servicios de valor agregado y factores personales/familiares reducen significativamente el riesgo de cancelación.  "
      ]
    },
    {
      "cell_type": "markdown",
      "metadata": {
        "id": "WpHZS_hkeTBh"
      },
      "source": [
        "## 🤖 Modelos de Machine Learning aplicables\n",
        "\n",
        "Dado que la variable objetivo es **Churn** (abandono del cliente, una variable binaria), este es un **problema de clasificación binaria**.  \n",
        "\n",
        "Entre los modelos más adecuados se encuentran:\n",
        "\n",
        "### 📌 Modelos clásicos de clasificación\n",
        "- **Regresión Logística (Logistic Regression)**  \n",
        "- **Árboles de Decisión (Decision Trees)**  \n",
        "- **K-Nearest Neighbors (KNN)**  \n",
        "- **Máquinas de Vectores de Soporte (SVM – Support Vector Machines)**  \n",
        "- **Random Forest Classifier**  "
      ]
    },
    {
      "cell_type": "markdown",
      "metadata": {
        "id": "wBNLo3yJYcgN"
      },
      "source": [
        "### Comprobación de la exactitud de los modelos(accuracy)"
      ]
    },
    {
      "cell_type": "code",
      "execution_count": 218,
      "metadata": {
        "id": "bnlXvSaw1HJN"
      },
      "outputs": [],
      "source": [
        "from sklearn.model_selection import train_test_split\n",
        "X,X_test,y,y_test = train_test_split(X,y,test_size=0.15,stratify=y,random_state=5)\n",
        "X_train,X_val,y_train,y_val = train_test_split(X,y,stratify=y,random_state=5)"
      ]
    },
    {
      "cell_type": "markdown",
      "metadata": {
        "id": "62sOJ3fo17W0"
      },
      "source": [
        "### Modelo LogisticRegression\n",
        "\n",
        "\n"
      ]
    },
    {
      "cell_type": "code",
      "execution_count": 219,
      "metadata": {
        "colab": {
          "base_uri": "https://localhost:8080/"
        },
        "id": "bydFJ2GX10xZ",
        "outputId": "43ca62a5-b271-49fd-a5c2-03b9cbbfdf55"
      },
      "outputs": [
        {
          "data": {
            "text/plain": [
              "0.8120989917506874"
            ]
          },
          "execution_count": 219,
          "metadata": {},
          "output_type": "execute_result"
        }
      ],
      "source": [
        "from sklearn.linear_model import LogisticRegression\n",
        "modelo_lr = LogisticRegression()\n",
        "modelo_lr.fit(X_train, y_train)\n",
        "modelo_lr.score(X_test, y_test)\n"
      ]
    },
    {
      "cell_type": "markdown",
      "metadata": {
        "id": "CB8AEk382VY8"
      },
      "source": [
        "### Árbol de decisión"
      ]
    },
    {
      "cell_type": "code",
      "execution_count": 220,
      "metadata": {
        "colab": {
          "base_uri": "https://localhost:8080/"
        },
        "id": "w24Whfyw10sa",
        "outputId": "058d6360-397a-4574-dada-caa6378375b7"
      },
      "outputs": [
        {
          "data": {
            "text/plain": [
              "0.7882676443629697"
            ]
          },
          "execution_count": 220,
          "metadata": {},
          "output_type": "execute_result"
        }
      ],
      "source": [
        "from sklearn.tree import DecisionTreeClassifier\n",
        "modelo_arbol = DecisionTreeClassifier(max_depth=3, random_state=5)\n",
        "modelo_arbol.fit(X_train, y_train)\n",
        "modelo_arbol.score(X_test, y_test)"
      ]
    },
    {
      "cell_type": "markdown",
      "metadata": {
        "id": "QQ18rfTg3Ckl"
      },
      "source": [
        "### Modelo KNN"
      ]
    },
    {
      "cell_type": "code",
      "execution_count": 221,
      "metadata": {
        "colab": {
          "base_uri": "https://localhost:8080/"
        },
        "id": "h_MPR-cL10nH",
        "outputId": "38b21f30-5f01-42fc-cb0b-24ce3e9551a6"
      },
      "outputs": [
        {
          "data": {
            "text/plain": [
              "0.7561869844179652"
            ]
          },
          "execution_count": 221,
          "metadata": {},
          "output_type": "execute_result"
        }
      ],
      "source": [
        "from sklearn.neighbors import KNeighborsClassifier\n",
        "knn = KNeighborsClassifier()\n",
        "knn.fit(X_train, y_train)\n",
        "knn.score(X_test, y_test)"
      ]
    },
    {
      "cell_type": "markdown",
      "metadata": {
        "id": "hPJYpoG-CDt7"
      },
      "source": [
        "### Modelo SVC (Support Vector Classifier)\n",
        "\n",
        "\n"
      ]
    },
    {
      "cell_type": "code",
      "execution_count": 222,
      "metadata": {
        "colab": {
          "base_uri": "https://localhost:8080/"
        },
        "id": "S2Npjw09B8bE",
        "outputId": "4b5778f8-403d-4bf9-fb64-dd000596dbf8"
      },
      "outputs": [
        {
          "data": {
            "text/plain": [
              "0.7424381301558204"
            ]
          },
          "execution_count": 222,
          "metadata": {},
          "output_type": "execute_result"
        }
      ],
      "source": [
        "from sklearn.svm import SVC\n",
        "SVC_model = SVC()\n",
        "SVC_model.fit(X_train, y_train)\n",
        "SVC_model.score(X_test, y_test)\n"
      ]
    },
    {
      "cell_type": "markdown",
      "metadata": {
        "id": "WYahXgS9EElo"
      },
      "source": [
        "### Modelo RamdomForetClassifier"
      ]
    },
    {
      "cell_type": "code",
      "execution_count": 223,
      "metadata": {
        "colab": {
          "base_uri": "https://localhost:8080/"
        },
        "id": "-ufSfQ-aEDCu",
        "outputId": "2444e35b-ad49-43ce-ef74-7da256f56c5d"
      },
      "outputs": [
        {
          "data": {
            "text/plain": [
              "0.7901008249312558"
            ]
          },
          "execution_count": 223,
          "metadata": {},
          "output_type": "execute_result"
        }
      ],
      "source": [
        "from sklearn.ensemble import RandomForestClassifier\n",
        "modelo_rf = RandomForestClassifier(max_depth=3, random_state=5)\n",
        "modelo_rf.fit(X_train, y_train)\n",
        "modelo_rf.score(X_test, y_test)"
      ]
    },
    {
      "cell_type": "markdown",
      "metadata": {
        "id": "hUlh9I3U319S"
      },
      "source": [
        "### Mejor modelo"
      ]
    },
    {
      "cell_type": "code",
      "execution_count": 224,
      "metadata": {
        "colab": {
          "base_uri": "https://localhost:8080/"
        },
        "id": "lx78BPwq10iw",
        "outputId": "0742f628-13d2-4eaf-d490-cb18cd581105"
      },
      "outputs": [
        {
          "name": "stdout",
          "output_type": "stream",
          "text": [
            "La exactitud del modelo LogisticRegression,0.8120989917506874\n",
            "La exactitud del modelo de árbol,0.7882676443629697\n",
            "La exactitud del modelo knn,0.7561869844179652\n",
            "La exactitud del modelo SVC,0.7424381301558204\n",
            "La exactitud del modelo randomforest,0.7901008249312558\n"
          ]
        }
      ],
      "source": [
        "lista = [('LogisticRegression',modelo_lr,X_test),('de árbol',modelo_arbol,X_test),('knn',knn,X_test),('SVC',SVC_model,X_test),('randomforest',modelo_rf,X_test)]\n",
        "for i in lista:\n",
        "  print(f'La exactitud del modelo {i[0]},{i[1].score(i[2],y_test)}')"
      ]
    },
    {
      "cell_type": "markdown",
      "metadata": {
        "id": "ilwe_OhsZMRD"
      },
      "source": [
        "El modelo LogisticRegression se considera el modelo con mayor proporción de aciertos sobre el conjunto de prueba(obtuvo el mayor valor de accuracy(exactitud) (0.8121) entre todos los modelos evaluados)\n",
        "No se trata de que sea el \"mejor modelo posible\", sino que en esta prueba concreta, bajo la métrica accuracy, superó a los demás.\n",
        "\n",
        "¿Es suficiente usar sólo accuracy?No siempre. La accuracy puede ser engañosa.\n",
        "Si el dataset está desbalanceado (por ejemplo, si el 80% de los datos son de una clase y el modelo simplemente predice siempre esa clase).\n",
        "En problemas como Churn (cancelación de clientes), donde suele haber desbalance, es importante mirar también otras métricas."
      ]
    },
    {
      "cell_type": "markdown",
      "metadata": {
        "id": "wFkXxcooSJdm"
      },
      "source": [
        "### Validando los modelos"
      ]
    },
    {
      "cell_type": "code",
      "execution_count": 225,
      "metadata": {
        "colab": {
          "base_uri": "https://localhost:8080/"
        },
        "id": "zVZE1PyYSSEq",
        "outputId": "4baf6bc8-9529-4210-d8eb-d9582d9fa222"
      },
      "outputs": [
        {
          "name": "stdout",
          "output_type": "stream",
          "text": [
            "La validación del modelo1 con el conjunto de entrenamiento es de: 0.8050518134715026\n",
            "La validación del modelo1 con el conjunto de validaciones es de: 0.802461139896373\n"
          ]
        }
      ],
      "source": [
        "modelo1 = LogisticRegression()\n",
        "modelo1.fit(X_train, y_train)\n",
        "print(f'La validación del modelo1 con el conjunto de entrenamiento es de: {modelo1.score(X_train,y_train)}')\n",
        "print(f'La validación del modelo1 con el conjunto de validaciones es de: {modelo1.score(X_val, y_val)}')"
      ]
    },
    {
      "cell_type": "code",
      "execution_count": 226,
      "metadata": {
        "colab": {
          "base_uri": "https://localhost:8080/"
        },
        "id": "IzhZoQa_SR_e",
        "outputId": "343ea395-90e3-46ef-f079-8c3923a6d052"
      },
      "outputs": [
        {
          "name": "stdout",
          "output_type": "stream",
          "text": [
            "La validación del modelo2 con el conjunto de entrenamiento es de: 0.8756476683937824\n",
            "La validación del modelo2 con el conjunto de validaciones es de: 0.7797927461139896\n"
          ]
        }
      ],
      "source": [
        "modelo2 = DecisionTreeClassifier(max_depth=10)\n",
        "modelo2.fit(X_train, y_train)\n",
        "print(f'La validación del modelo2 con el conjunto de entrenamiento es de: {modelo2.score(X_train,y_train)}')\n",
        "print(f'La validación del modelo2 con el conjunto de validaciones es de: {modelo2.score(X_val, y_val)}')"
      ]
    },
    {
      "cell_type": "code",
      "execution_count": 227,
      "metadata": {
        "colab": {
          "base_uri": "https://localhost:8080/"
        },
        "id": "5ENm3dEjSR7I",
        "outputId": "86076bd1-bf9f-4718-c2ea-14b9a382fed6"
      },
      "outputs": [
        {
          "name": "stdout",
          "output_type": "stream",
          "text": [
            "La validación del modelo3 con el conjunto de entrenamiento es de: 0.8309585492227979\n",
            "La validación del modelo3 con el conjunto de validaciones es de: 0.7519430051813472\n"
          ]
        }
      ],
      "source": [
        "modelo3 = KNeighborsClassifier()\n",
        "modelo3.fit(X_train, y_train)\n",
        "print(f'La validación del modelo3 con el conjunto de entrenamiento es de: {modelo3.score(X_train,y_train)}')\n",
        "print(f'La validación del modelo3 con el conjunto de validaciones es de: {modelo3.score(X_val, y_val)}')"
      ]
    },
    {
      "cell_type": "code",
      "execution_count": 228,
      "metadata": {
        "colab": {
          "base_uri": "https://localhost:8080/"
        },
        "id": "RpXJFa14SR2s",
        "outputId": "663ea6b3-8021-4c30-d799-c8cd85b6e6a9"
      },
      "outputs": [
        {
          "name": "stdout",
          "output_type": "stream",
          "text": [
            "La validación del modelo4 con el conjunto de entrenamiento es de: 0.6640759930915371\n",
            "La validación del modelo4 con el conjunto de validaciones es de: 0.6645077720207254\n"
          ]
        }
      ],
      "source": [
        "modelo4 =  SVC(class_weight='balanced')\n",
        "modelo4.fit(X_train, y_train)\n",
        "print(f'La validación del modelo4 con el conjunto de entrenamiento es de: {modelo4.score(X_train,y_train)}')\n",
        "print(f'La validación del modelo4 con el conjunto de validaciones es de: {modelo4.score(X_val, y_val)}')"
      ]
    },
    {
      "cell_type": "code",
      "execution_count": 229,
      "metadata": {
        "colab": {
          "base_uri": "https://localhost:8080/"
        },
        "id": "lNtws0mcSRx2",
        "outputId": "f1fdf26c-3ac6-49d6-ac25-f8065184c23e"
      },
      "outputs": [
        {
          "name": "stdout",
          "output_type": "stream",
          "text": [
            "La validación del modelo5 con el conjunto de entrenamiento es de: 0.792314335060449\n",
            "La validación del modelo5 con el conjunto de validaciones es de: 0.788860103626943\n"
          ]
        }
      ],
      "source": [
        "modelo5 = RandomForestClassifier(max_depth=3, random_state=5)\n",
        "modelo5.fit(X_train, y_train)\n",
        "print(f'La validación del modelo5 con el conjunto de entrenamiento es de: {modelo5.score(X_train,y_train)}')\n",
        "print(f'La validación del modelo5 con el conjunto de validaciones es de: {modelo5.score(X_val, y_val)}')"
      ]
    },
    {
      "cell_type": "markdown",
      "metadata": {
        "id": "8Y-sG8MLmhzz"
      },
      "source": [
        "## ✅ Validación de Modelos\n",
        "\n",
        "En la etapa de validación, el modelo con mejor desempeño fue el **Modelo 1: Regresión Logística**, mostrando las siguientes características:\n",
        "\n",
        "- **Rendimiento en validación**: 80.2%  \n",
        "- **Overfitting mínimo**: logra aprender patrones generales útiles para predecir casos nuevos, sin memorizar datos específicos.  \n",
        "- **Modelo base sólido**: simple, confiable y con buena capacidad de generalización.  \n",
        "\n",
        "👉 La clave de su buen rendimiento está en que **generaliza mejor** y no se limita a memorizar las salidas del conjunto de entrenamiento.  \n",
        "\n",
        "Este resultado marca un **punto de partida sólido** para la validación de los distintos modelos, aunque aún es necesario avanzar con una **evaluación más profunda** que incluya métricas adicionales (matriz de confusión, curva ROC, F1-score, etc.) para comparar de forma integral.  "
      ]
    },
    {
      "cell_type": "markdown",
      "metadata": {
        "id": "uE43_XVz0w7u"
      },
      "source": [
        "### Evaluando los modelos"
      ]
    },
    {
      "cell_type": "markdown",
      "metadata": {
        "id": "jbMMBiZWQwAA"
      },
      "source": [
        "# Matriz de Confusión\n",
        "\n",
        "|                | **Predicción: No Churn** | **Predicción: Churn** |\n",
        "|----------------|-------------------------|----------------------|\n",
        "| **Real: No Churn** | TN (Verdaderos Negativos)  | FP (Falsos Positivos) |\n",
        "| **Real: Churn**    | FN (Falsos Negativos)      | TP (Verdaderos Positivos) |\n",
        "\n",
        "### Definiciones\n",
        "\n",
        "- **TN (Verdaderos Negativos):** Predijo que **no habría Churn**, y efectivamente no lo hubo.\n",
        "- **FP (Falsos Positivos):** Predijo **Churn**, pero en realidad **no ocurrió**.\n",
        "- **FN (Falsos Negativos):** No predijo **Churn**, pero en realidad **sí ocurrió**.\n",
        "- **TP (Verdaderos Positivos):** Predijo correctamente **Churn**."
      ]
    },
    {
      "cell_type": "markdown",
      "metadata": {
        "id": "ikcelLI-WVuM"
      },
      "source": [
        "<a href=\"https://imgbb.com/\"><img src=\"https://i.ibb.co/6Jp6rKyC/Captura-de-tela-2025-03-22-120744.png\" alt=\"Captura-de-tela-2025-03-22-120744\" border=\"0\"></a>"
      ]
    },
    {
      "cell_type": "markdown",
      "metadata": {
        "id": "HvQTZ7SOoLYD"
      },
      "source": [
        "### Modelo Regresión Logística"
      ]
    },
    {
      "cell_type": "code",
      "execution_count": 230,
      "metadata": {
        "colab": {
          "base_uri": "https://localhost:8080/"
        },
        "id": "N0bc0aHpmYKg",
        "outputId": "84969906-7c0b-4e73-d327-b34a07aaad2e"
      },
      "outputs": [
        {
          "name": "stdout",
          "output_type": "stream",
          "text": [
            "La Exactitud (Accuracy) del modelo1 es: 0.8121\n",
            "La Precisión (Precision) del modelo1 es: 0.6792\n",
            "La Sensibilidad (Recall) del modelo1 es: 0.5125\n",
            "El F1-Score del modelo1 es: 0.5842\n"
          ]
        }
      ],
      "source": [
        "from sklearn.metrics import accuracy_score, precision_score, recall_score, f1_score\n",
        "\n",
        "y_pred = modelo1.predict(X_test)  # Reemplazá 'modelo' con el que estés evaluando\n",
        "\n",
        "print(f'La Exactitud (Accuracy) del modelo1 es: {accuracy_score(y_test, y_pred):.4f}')\n",
        "print(f'La Precisión (Precision) del modelo1 es: {precision_score(y_test, y_pred):.4f}')\n",
        "print(f'La Sensibilidad (Recall) del modelo1 es: {recall_score(y_test, y_pred):.4f}')\n",
        "print(f'El F1-Score del modelo1 es: {f1_score(y_test, y_pred):.4f}')"
      ]
    },
    {
      "cell_type": "markdown",
      "metadata": {
        "id": "G_dKgdQHnRGP"
      },
      "source": [
        "### Modelo Árbol de Decisión"
      ]
    },
    {
      "cell_type": "code",
      "execution_count": 231,
      "metadata": {
        "colab": {
          "base_uri": "https://localhost:8080/"
        },
        "id": "LeDFkDYRoWgo",
        "outputId": "4e711bf5-eda5-46c8-8f7e-22594e4274c0"
      },
      "outputs": [
        {
          "name": "stdout",
          "output_type": "stream",
          "text": [
            "La Exactitud (Accuracy) del modelo2 es: 0.7672\n",
            "La Precisión (Precision) del modelo2 es: 0.5517\n",
            "La Sensibilidad (Recall) del modelo2 es: 0.5125\n",
            "El F1-Score del modelo2 es: 0.5314\n"
          ]
        }
      ],
      "source": [
        "from sklearn.metrics import accuracy_score, precision_score, recall_score, f1_score\n",
        "\n",
        "y_pred = modelo2.predict(X_test)  # Reemplazá 'modelo' con el que estés evaluando\n",
        "\n",
        "print(f'La Exactitud (Accuracy) del modelo2 es: {accuracy_score(y_test, y_pred):.4f}')\n",
        "print(f'La Precisión (Precision) del modelo2 es: {precision_score(y_test, y_pred):.4f}')\n",
        "print(f'La Sensibilidad (Recall) del modelo2 es: {recall_score(y_test, y_pred):.4f}')\n",
        "print(f'El F1-Score del modelo2 es: {f1_score(y_test, y_pred):.4f}')"
      ]
    },
    {
      "cell_type": "markdown",
      "metadata": {
        "id": "Gl_I2ZsDnBC_"
      },
      "source": [
        "### Modelo KNN"
      ]
    },
    {
      "cell_type": "code",
      "execution_count": 232,
      "metadata": {
        "colab": {
          "base_uri": "https://localhost:8080/"
        },
        "id": "vZhWJ4CgoXxs",
        "outputId": "51f31a05-3682-40e4-c524-82147310fbf9"
      },
      "outputs": [
        {
          "name": "stdout",
          "output_type": "stream",
          "text": [
            "La Exactitud (Accuracy) del modelo3 es: 0.7562\n",
            "La Precisión (Precision) del modelo3 es: 0.5377\n",
            "La Sensibilidad (Recall) del modelo3 es: 0.3808\n",
            "El F1-Score del modelo3 es: 0.4458\n"
          ]
        }
      ],
      "source": [
        "from sklearn.metrics import accuracy_score, precision_score, recall_score, f1_score\n",
        "\n",
        "y_pred = modelo3.predict(X_test)  # Reemplazá 'modelo' con el que estés evaluando\n",
        "\n",
        "print(f'La Exactitud (Accuracy) del modelo3 es: {accuracy_score(y_test, y_pred):.4f}')\n",
        "print(f'La Precisión (Precision) del modelo3 es: {precision_score(y_test, y_pred):.4f}')\n",
        "print(f'La Sensibilidad (Recall) del modelo3 es: {recall_score(y_test, y_pred):.4f}')\n",
        "print(f'El F1-Score del modelo3 es: {f1_score(y_test, y_pred):.4f}')\n"
      ]
    },
    {
      "cell_type": "markdown",
      "metadata": {
        "id": "ES0wpJLxon3C"
      },
      "source": [
        "### Modelo SVC (Support Vector Classifier)"
      ]
    },
    {
      "cell_type": "code",
      "execution_count": 233,
      "metadata": {
        "colab": {
          "base_uri": "https://localhost:8080/"
        },
        "id": "lI5k7_LRos09",
        "outputId": "4f433525-2488-49ec-e8af-8ba65dbe1210"
      },
      "outputs": [
        {
          "name": "stdout",
          "output_type": "stream",
          "text": [
            "La Exactitud (Accuracy) del modelo4 es: 0.6581\n",
            "La Precisión (Precision) del modelo4 es: 0.3883\n",
            "La Sensibilidad (Recall) del modelo4 es: 0.5694\n",
            "El F1-Score del modelo4 es: 0.4618\n"
          ]
        }
      ],
      "source": [
        "from sklearn.metrics import accuracy_score, precision_score, recall_score, f1_score\n",
        "\n",
        "y_pred = modelo4.predict(X_test)  # Reemplazá 'modelo' con el que estés evaluando\n",
        "\n",
        "print(f'La Exactitud (Accuracy) del modelo4 es: {accuracy_score(y_test, y_pred):.4f}')\n",
        "print(f'La Precisión (Precision) del modelo4 es: {precision_score(y_test, y_pred):.4f}')\n",
        "print(f'La Sensibilidad (Recall) del modelo4 es: {recall_score(y_test, y_pred):.4f}')\n",
        "print(f'El F1-Score del modelo4 es: {f1_score(y_test, y_pred):.4f}')\n"
      ]
    },
    {
      "cell_type": "markdown",
      "metadata": {
        "id": "5e3bJ5FApCUI"
      },
      "source": [
        "### Modelo RamdomForetClassifier"
      ]
    },
    {
      "cell_type": "code",
      "execution_count": 234,
      "metadata": {
        "colab": {
          "base_uri": "https://localhost:8080/"
        },
        "id": "GAigKAaypKKP",
        "outputId": "349db7fd-45f3-4006-8772-3d80115a316d"
      },
      "outputs": [
        {
          "name": "stdout",
          "output_type": "stream",
          "text": [
            "La Exactitud (Accuracy) del modelo5 es: 0.7901\n",
            "La Precisión (Precision) del modelo5 es: 0.7281\n",
            "La Sensibilidad (Recall) del modelo5 es: 0.2954\n",
            "El F1-Score del modelo5 es: 0.4203\n"
          ]
        }
      ],
      "source": [
        "from sklearn.metrics import accuracy_score, precision_score, recall_score, f1_score\n",
        "\n",
        "y_pred = modelo5.predict(X_test)  # Reemplazá 'modelo' con el que estés evaluando\n",
        "\n",
        "print(f'La Exactitud (Accuracy) del modelo5 es: {accuracy_score(y_test, y_pred):.4f}')\n",
        "print(f'La Precisión (Precision) del modelo5 es: {precision_score(y_test, y_pred):.4f}')\n",
        "print(f'La Sensibilidad (Recall) del modelo5 es: {recall_score(y_test, y_pred):.4f}')\n",
        "print(f'El F1-Score del modelo5 es: {f1_score(y_test, y_pred):.4f}')\n"
      ]
    },
    {
      "cell_type": "code",
      "execution_count": 235,
      "metadata": {
        "colab": {
          "base_uri": "https://localhost:8080/",
          "height": 207
        },
        "id": "7whJbz6wUCMb",
        "outputId": "a6b4f0b8-6425-4cd2-8fdd-67d09b33828c"
      },
      "outputs": [
        {
          "data": {
            "text/html": [
              "<style type=\"text/css\">\n",
              "#T_316fb_row0_col1, #T_316fb_row0_col4, #T_316fb_row3_col3, #T_316fb_row4_col2 {\n",
              "  background-color: lightgreen;\n",
              "}\n",
              "</style>\n",
              "<table id=\"T_316fb\">\n",
              "  <thead>\n",
              "    <tr>\n",
              "      <th class=\"blank level0\" >&nbsp;</th>\n",
              "      <th id=\"T_316fb_level0_col0\" class=\"col_heading level0 col0\" >Modelo</th>\n",
              "      <th id=\"T_316fb_level0_col1\" class=\"col_heading level0 col1\" >Accuracy</th>\n",
              "      <th id=\"T_316fb_level0_col2\" class=\"col_heading level0 col2\" >Precision</th>\n",
              "      <th id=\"T_316fb_level0_col3\" class=\"col_heading level0 col3\" >Recall</th>\n",
              "      <th id=\"T_316fb_level0_col4\" class=\"col_heading level0 col4\" >F1-Score</th>\n",
              "    </tr>\n",
              "  </thead>\n",
              "  <tbody>\n",
              "    <tr>\n",
              "      <th id=\"T_316fb_level0_row0\" class=\"row_heading level0 row0\" >0</th>\n",
              "      <td id=\"T_316fb_row0_col0\" class=\"data row0 col0\" >1. Regresión Logística</td>\n",
              "      <td id=\"T_316fb_row0_col1\" class=\"data row0 col1\" >0.812100</td>\n",
              "      <td id=\"T_316fb_row0_col2\" class=\"data row0 col2\" >0.679200</td>\n",
              "      <td id=\"T_316fb_row0_col3\" class=\"data row0 col3\" >0.512500</td>\n",
              "      <td id=\"T_316fb_row0_col4\" class=\"data row0 col4\" >0.584200</td>\n",
              "    </tr>\n",
              "    <tr>\n",
              "      <th id=\"T_316fb_level0_row1\" class=\"row_heading level0 row1\" >1</th>\n",
              "      <td id=\"T_316fb_row1_col0\" class=\"data row1 col0\" >2. Árbol de Decisión</td>\n",
              "      <td id=\"T_316fb_row1_col1\" class=\"data row1 col1\" >0.773600</td>\n",
              "      <td id=\"T_316fb_row1_col2\" class=\"data row1 col2\" >0.567500</td>\n",
              "      <td id=\"T_316fb_row1_col3\" class=\"data row1 col3\" >0.508900</td>\n",
              "      <td id=\"T_316fb_row1_col4\" class=\"data row1 col4\" >0.536600</td>\n",
              "    </tr>\n",
              "    <tr>\n",
              "      <th id=\"T_316fb_level0_row2\" class=\"row_heading level0 row2\" >2</th>\n",
              "      <td id=\"T_316fb_row2_col0\" class=\"data row2 col0\" >3. KNN</td>\n",
              "      <td id=\"T_316fb_row2_col1\" class=\"data row2 col1\" >0.757100</td>\n",
              "      <td id=\"T_316fb_row2_col2\" class=\"data row2 col2\" >0.540400</td>\n",
              "      <td id=\"T_316fb_row2_col3\" class=\"data row2 col3\" >0.380800</td>\n",
              "      <td id=\"T_316fb_row2_col4\" class=\"data row2 col4\" >0.446800</td>\n",
              "    </tr>\n",
              "    <tr>\n",
              "      <th id=\"T_316fb_level0_row3\" class=\"row_heading level0 row3\" >3</th>\n",
              "      <td id=\"T_316fb_row3_col0\" class=\"data row3 col0\" >4. SVM (balanceado)</td>\n",
              "      <td id=\"T_316fb_row3_col1\" class=\"data row3 col1\" >0.658100</td>\n",
              "      <td id=\"T_316fb_row3_col2\" class=\"data row3 col2\" >0.388300</td>\n",
              "      <td id=\"T_316fb_row3_col3\" class=\"data row3 col3\" >0.569400</td>\n",
              "      <td id=\"T_316fb_row3_col4\" class=\"data row3 col4\" >0.461800</td>\n",
              "    </tr>\n",
              "    <tr>\n",
              "      <th id=\"T_316fb_level0_row4\" class=\"row_heading level0 row4\" >4</th>\n",
              "      <td id=\"T_316fb_row4_col0\" class=\"data row4 col0\" >5. Random Forest (limitado)</td>\n",
              "      <td id=\"T_316fb_row4_col1\" class=\"data row4 col1\" >0.790100</td>\n",
              "      <td id=\"T_316fb_row4_col2\" class=\"data row4 col2\" >0.728100</td>\n",
              "      <td id=\"T_316fb_row4_col3\" class=\"data row4 col3\" >0.295400</td>\n",
              "      <td id=\"T_316fb_row4_col4\" class=\"data row4 col4\" >0.420300</td>\n",
              "    </tr>\n",
              "  </tbody>\n",
              "</table>\n"
            ],
            "text/plain": [
              "<pandas.io.formats.style.Styler at 0x136e0f610>"
            ]
          },
          "execution_count": 235,
          "metadata": {},
          "output_type": "execute_result"
        }
      ],
      "source": [
        "import pandas as pd\n",
        "\n",
        "# Datos del rendimiento de los modelos\n",
        "data = {\n",
        "    \"Modelo\": [\n",
        "        \"1. Regresión Logística\",\n",
        "        \"2. Árbol de Decisión\",\n",
        "        \"3. KNN\",\n",
        "        \"4. SVM (balanceado)\",\n",
        "        \"5. Random Forest (limitado)\"\n",
        "    ],\n",
        "    \"Accuracy\": [0.8121, 0.7736, 0.7571, 0.6581, 0.7901],\n",
        "    \"Precision\": [0.6792, 0.5675, 0.5404, 0.3883, 0.7281],\n",
        "    \"Recall\": [0.5125, 0.5089, 0.3808, 0.5694, 0.2954],\n",
        "    \"F1-Score\": [0.5842, 0.5366, 0.4468, 0.4618, 0.4203]\n",
        "}\n",
        "\n",
        "# Crear el DataFrame\n",
        "df = pd.DataFrame(data)\n",
        "\n",
        "# Resaltar los valores máximos por columna\n",
        "styled_df = df.style.highlight_max(color='lightgreen', subset=['Accuracy', 'Precision', 'Recall', 'F1-Score'])\n",
        "\n",
        "# Mostrar la tabla\n",
        "styled_df\n"
      ]
    },
    {
      "cell_type": "markdown",
      "metadata": {
        "id": "fQA7xzWSkE6X"
      },
      "source": [
        "### ¿Cuál es el mejor modelo?\n",
        "\n",
        "#### Modelo 1 - Regresión Logística\n",
        "\n",
        "Este modelo se destaca por:\n",
        "\n",
        "- **Mejor F1-Score** entre los modelos evaluados.  \n",
        "- **Buen equilibrio** entre precisión, recall y F1-Score.  \n",
        "- **Muy buena generalización**, evidenciada por la baja diferencia entre entrenamiento y validación.  \n",
        "- **Estabilidad y facilidad de interpretación**, siendo probablemente el modelo más confiable para usar."
      ]
    },
    {
      "cell_type": "markdown",
      "metadata": {
        "id": "KlTH95G6lH_4"
      },
      "source": [
        "### Modelo Regresión Logística"
      ]
    },
    {
      "cell_type": "markdown",
      "metadata": {
        "id": "AzOE-aOMlc_n"
      },
      "source": [
        "### Matriz de confusión"
      ]
    },
    {
      "cell_type": "code",
      "execution_count": 236,
      "metadata": {
        "colab": {
          "base_uri": "https://localhost:8080/"
        },
        "id": "smyhlmtrlsly",
        "outputId": "abe0b18b-0870-4b6e-db26-d9387c168964"
      },
      "outputs": [
        {
          "data": {
            "text/plain": [
              "array([[1035,  112],\n",
              "       [ 193,  204]])"
            ]
          },
          "execution_count": 236,
          "metadata": {},
          "output_type": "execute_result"
        }
      ],
      "source": [
        "from sklearn.metrics import confusion_matrix\n",
        "y_previsto = modelo1.predict(X_val)\n",
        "matriz_confusion1 = confusion_matrix(y_val,y_previsto)\n",
        "matriz_confusion1"
      ]
    },
    {
      "cell_type": "code",
      "execution_count": 237,
      "metadata": {
        "colab": {
          "base_uri": "https://localhost:8080/",
          "height": 503
        },
        "id": "-mUv61fOl2E-",
        "outputId": "64280044-0194-483f-a236-a24e0503a081"
      },
      "outputs": [
        {
          "data": {
            "image/png": "[encoded data removed]",
            "text/plain": [
              "<Figure size 640x480 with 2 Axes>"
            ]
          },
          "metadata": {},
          "output_type": "display_data"
        }
      ],
      "source": [
        "from sklearn.metrics import ConfusionMatrixDisplay\n",
        "visualizacion = ConfusionMatrixDisplay(confusion_matrix=matriz_confusion1, display_labels=['Retención','Evasión'])\n",
        "visualizacion.plot();\n"
      ]
    },
    {
      "cell_type": "markdown",
      "metadata": {
        "id": "4Ql_5m3zoN-W"
      },
      "source": [
        "### Curva ROC"
      ]
    },
    {
      "cell_type": "code",
      "execution_count": 238,
      "metadata": {
        "colab": {
          "base_uri": "https://localhost:8080/",
          "height": 1000
        },
        "id": "26uu3e9COS64",
        "outputId": "0494a1d0-7062-47fa-b279-e78caf218be0"
      },
      "outputs": [
        {
          "data": {
            "image/png": "[encoded data removed]",
            "text/plain": [
              "<Figure size 1800x1000 with 5 Axes>"
            ]
          },
          "metadata": {},
          "output_type": "display_data"
        }
      ],
      "source": [
        "from sklearn.metrics import RocCurveDisplay, roc_auc_score\n",
        "import matplotlib.pyplot as plt\n",
        "\n",
        "# Lista de modelos con sus nombres\n",
        "modelos = [\n",
        "    ('Regresión Logística', modelo1),\n",
        "    ('Árbol de Decisión', modelo2),\n",
        "    ('KNN', modelo3),\n",
        "    ('SVC', modelo4),\n",
        "    ('Random Forest', modelo5),\n",
        "]\n",
        "\n",
        "# Crear figura con 2 filas y 3 columnas\n",
        "fig, axes = plt.subplots(2, 3, figsize=(18, 10))  # 18 de ancho, 10 de alto\n",
        "axes = axes.flatten()  # Aplanar matriz de ejes para acceder con índice simple\n",
        "\n",
        "for i, (nombre, modelo) in enumerate(modelos):\n",
        "    ax = axes[i]\n",
        "\n",
        "    # Obtener probabilidades\n",
        "    if hasattr(modelo, \"predict_proba\"):\n",
        "        probas = modelo.predict_proba(X_val)[:, 1]\n",
        "    elif hasattr(modelo, \"decision_function\"):\n",
        "        probas = modelo.decision_function(X_val)\n",
        "    else:\n",
        "        print(f\"El modelo {nombre} no tiene método predict_proba ni decision_function.\")\n",
        "        continue\n",
        "\n",
        "    # Mostrar curva ROC\n",
        "    RocCurveDisplay.from_predictions(y_val, probas, ax=ax, name=nombre)\n",
        "\n",
        "    # Título con AUC\n",
        "    auc = roc_auc_score(y_val, probas)\n",
        "    ax.set_title(f\"{nombre}\\nAUC = {auc:.2f}\")\n",
        "    ax.grid(True)\n",
        "\n",
        "# Eliminar subplot vacío (el sexto, ya que solo hay 5 modelos)Modelo LogisticRegression\n",
        "fig.delaxes(axes[-1])\n",
        "\n",
        "plt.tight_layout()\n",
        "plt.show()\n"
      ]
    },
    {
      "cell_type": "markdown",
      "metadata": {
        "id": "G6ETrgnTlaSS"
      },
      "source": [
        "### Interpretación modelo por modelo\n",
        "\n",
        "#### 1. Random Forest (AUC: 0.836)\n",
        "- **Mejor rendimiento general.**\n",
        "- Excelente capacidad para distinguir entre clientes que hacen churn y los que no.\n",
        "- Ideal para producción si no te preocupa la interpretabilidad.\n",
        "- Puede capturar relaciones no lineales y combinaciones de atributos complejas.\n",
        "\n",
        "#### 2. Regresión Logística (AUC: 0.833)\n",
        "- Muy cercano al Random Forest, lo cual es muy positivo.\n",
        "- Más interpretable: permite ver pesos/coefs de cada variable.\n",
        "- Excelente opción si necesitás justificar decisiones (por ejemplo, ante gerencia o auditoría).\n",
        "- Menos propenso a overfitting que los árboles.\n",
        "\n",
        "#### 3. Árbol de Decisión (AUC: 0.752)\n",
        "- Razonablemente bueno, pero significativamente más bajo.\n",
        "- Probablemente overfitea o no generaliza bien.\n",
        "- Sirve como base visual, pero es mejor usar Random Forest.\n",
        "\n",
        "#### 4. KNN (AUC: 0.717)\n",
        "- AUC modesto → capacidad limitada de separación.\n",
        "- Suele verse afectado por escalado de datos, ruido y dimensionalidad.\n",
        "- No ideal para este problema a menos que mejores su entorno.\n",
        "\n",
        "#### 5. SVC (AUC: 0.702)\n",
        "- El más bajo del grupo.\n",
        "- Posibles causas:\n",
        "  - No haber hecho buen escalado de variables.\n",
        "  - Kernel no óptimo.\n",
        "  - Mal ajuste de hiperparámetros (C, gamma).\n",
        "- No es la mejor opción en este caso.\n",
        "\n",
        "### Conclusión general\n",
        "- **Random Forest** y **Regresión Logística** tienen AUC altos (~0.83) → Son tus mejores modelos.\n",
        "- Si querés **máxima precisión**, usá Random Forest.\n",
        "- Si querés **entendimiento claro del modelo**, usá Regresión Logística.\n",
        "- Los demás modelos no ofrecen ventajas competitivas en este caso."
      ]
    },
    {
      "cell_type": "markdown",
      "metadata": {
        "id": "Gpg5OPRyoed6"
      },
      "source": [
        "### Curva de precisión vs sensibilidad"
      ]
    },
    {
      "cell_type": "code",
      "execution_count": 239,
      "metadata": {
        "colab": {
          "base_uri": "https://localhost:8080/",
          "height": 1000
        },
        "id": "S-Ty1sAIolcj",
        "outputId": "057dfa05-2dfd-4ba8-ffac-c2345a9a8cc9"
      },
      "outputs": [
        {
          "data": {
            "image/png": "[encoded data removed]",
            "text/plain": [
              "<Figure size 1800x1000 with 5 Axes>"
            ]
          },
          "metadata": {},
          "output_type": "display_data"
        }
      ],
      "source": [
        "from sklearn.metrics import PrecisionRecallDisplay, precision_recall_curve, average_precision_score\n",
        "import matplotlib.pyplot as plt\n",
        "\n",
        "# Lista de modelos y sus nombres\n",
        "modelos = [\n",
        "    ('Regresión Logística', modelo1),\n",
        "    ('Árbol de Decisión', modelo2),\n",
        "    ('KNN', modelo3),\n",
        "    ('SVC', modelo4),\n",
        "    ('Random Forest', modelo5),\n",
        "]\n",
        "\n",
        "# Crear subplots: 2 filas, 3 columnas\n",
        "fig, axes = plt.subplots(2, 3, figsize=(18, 10))\n",
        "axes = axes.flatten()  # Aplanar para acceder por índice\n",
        "\n",
        "for i, (nombre, modelo) in enumerate(modelos):\n",
        "    ax = axes[i]\n",
        "\n",
        "    # Obtener probabilidades para la clase positiva\n",
        "    if hasattr(modelo, \"predict_proba\"):\n",
        "        probas = modelo.predict_proba(X_val)[:, 1]\n",
        "    elif hasattr(modelo, \"decision_function\"):\n",
        "        probas = modelo.decision_function(X_val)\n",
        "    else:\n",
        "        print(f\"{nombre} no tiene método predict_proba ni decision_function.\")\n",
        "        continue\n",
        "\n",
        "    # Mostrar la curva Precision-Recall\n",
        "    PrecisionRecallDisplay.from_predictions(y_val, probas, ax=ax, name=nombre)\n",
        "\n",
        "    # También podés mostrar el Average Precision Score (opcional)\n",
        "    avg_precision = average_precision_score(y_val, probas)\n",
        "    ax.set_title(f\"{nombre}\\nAverage Precision = {avg_precision:.2f}\")\n",
        "    ax.grid(True)\n",
        "\n",
        "# Eliminar subplot vacío (el sexto)\n",
        "fig.delaxes(axes[-1])\n",
        "\n",
        "plt.tight_layout()\n",
        "plt.show()\n"
      ]
    },
    {
      "cell_type": "code",
      "execution_count": 240,
      "metadata": {
        "colab": {
          "base_uri": "https://localhost:8080/"
        },
        "id": "VuT39mwrtG0K",
        "outputId": "6f38898c-8efd-494e-8062-a7f2e684c739"
      },
      "outputs": [
        {
          "name": "stdout",
          "output_type": "stream",
          "text": [
            "Score promedio Precisión-Recall (Regresión Logística): 0.629\n",
            "Score promedio Precisión-Recall (Árbol de Decisión): 0.467\n",
            "Score promedio Precisión-Recall (KNN): 0.453\n",
            "Score promedio Precisión-Recall (SVC): 0.509\n",
            "Score promedio Precisión-Recall (Random Forest): 0.632\n"
          ]
        }
      ],
      "source": [
        "from sklearn.metrics import average_precision_score\n",
        "\n",
        "modelos = [\n",
        "    ('Regresión Logística', modelo1),\n",
        "    ('Árbol de Decisión', modelo2),\n",
        "    ('KNN', modelo3),\n",
        "    ('SVC', modelo4),\n",
        "    ('Random Forest', modelo5),\n",
        "]\n",
        "\n",
        "for nombre, modelo in modelos:\n",
        "    # Obtener probabilidades o scores continuos\n",
        "    if hasattr(modelo, \"predict_proba\"):\n",
        "        probas = modelo.predict_proba(X_val)[:, 1]\n",
        "    elif hasattr(modelo, \"decision_function\"):\n",
        "        probas = modelo.decision_function(X_val)\n",
        "    else:\n",
        "        print(f\" {nombre} no tiene método predict_proba ni decision_function.\")\n",
        "        continue\n",
        "\n",
        "    # Calcular average precision score\n",
        "    ap_score = average_precision_score(y_val, probas)\n",
        "    print(f\"Score promedio Precisión-Recall ({nombre}): {ap_score:.3f}\")\n"
      ]
    },
    {
      "cell_type": "markdown",
      "metadata": {
        "id": "OSikgyFyt2Yd"
      },
      "source": [
        "### ¿Qué significa?\n",
        "\n",
        "- **Average Precision**: mientras más alto, mejor el modelo detecta correctamente la clase positiva **minimizando falsos positivos**.  \n",
        "- **Random Forest** y **Regresión Logística** probablemente ofrecen el **mejor trade-off** entre detección correcta y errores."
      ]
    },
    {
      "cell_type": "markdown",
      "metadata": {
        "id": "i9mD4floyqrp"
      },
      "source": [
        "### Informe de métricas"
      ]
    },
    {
      "cell_type": "code",
      "execution_count": 241,
      "metadata": {
        "colab": {
          "base_uri": "https://localhost:8080/"
        },
        "id": "XmHmZS1D1TxJ",
        "outputId": "f865840e-9f57-42e7-db76-04da91e51404"
      },
      "outputs": [
        {
          "name": "stdout",
          "output_type": "stream",
          "text": [
            "\n",
            " Reporte de clasificación: Regresión Logística\n",
            "              precision    recall  f1-score   support\n",
            "\n",
            "           0      0.843     0.902     0.872      1147\n",
            "           1      0.646     0.514     0.572       397\n",
            "\n",
            "    accuracy                          0.802      1544\n",
            "   macro avg      0.744     0.708     0.722      1544\n",
            "weighted avg      0.792     0.802     0.795      1544\n",
            "\n",
            "\n",
            " Reporte de clasificación: Árbol de Decisión\n",
            "              precision    recall  f1-score   support\n",
            "\n",
            "           0      0.849     0.855     0.852      1147\n",
            "           1      0.573     0.562     0.567       397\n",
            "\n",
            "    accuracy                          0.780      1544\n",
            "   macro avg      0.711     0.708     0.710      1544\n",
            "weighted avg      0.778     0.780     0.779      1544\n",
            "\n",
            "\n",
            " Reporte de clasificación: KNN\n",
            "              precision    recall  f1-score   support\n",
            "\n",
            "           0      0.814     0.863     0.838      1147\n",
            "           1      0.521     0.431     0.472       397\n",
            "\n",
            "    accuracy                          0.752      1544\n",
            "   macro avg      0.668     0.647     0.655      1544\n",
            "weighted avg      0.739     0.752     0.744      1544\n",
            "\n",
            "\n",
            " Reporte de clasificación: SVC\n",
            "              precision    recall  f1-score   support\n",
            "\n",
            "           0      0.821     0.701     0.756      1147\n",
            "           1      0.393     0.559     0.462       397\n",
            "\n",
            "    accuracy                          0.665      1544\n",
            "   macro avg      0.607     0.630     0.609      1544\n",
            "weighted avg      0.711     0.665     0.681      1544\n",
            "\n",
            "\n",
            " Reporte de clasificación: Random Forest\n",
            "              precision    recall  f1-score   support\n",
            "\n",
            "           0      0.799     0.956     0.871      1147\n",
            "           1      0.708     0.305     0.426       397\n",
            "\n",
            "    accuracy                          0.789      1544\n",
            "   macro avg      0.753     0.631     0.648      1544\n",
            "weighted avg      0.775     0.789     0.756      1544\n",
            "\n"
          ]
        }
      ],
      "source": [
        "from sklearn.metrics import classification_report\n",
        "\n",
        "modelos = [\n",
        "    ('Regresión Logística', modelo1),\n",
        "    ('Árbol de Decisión', modelo2),\n",
        "    ('KNN', modelo3),\n",
        "    ('SVC', modelo4),\n",
        "    ('Random Forest', modelo5),\n",
        "]\n",
        "\n",
        "for nombre, modelo in modelos:\n",
        "    print(f\"\\n Reporte de clasificación: {nombre}\")\n",
        "    y_pred = modelo.predict(X_val)\n",
        "    print(classification_report(y_val, y_pred, digits=3))\n"
      ]
    },
    {
      "cell_type": "markdown",
      "metadata": {
        "id": "SwjmqRN28Zae"
      },
      "source": [
        "### Resumen comparativo por clase 1 (Churn)\n",
        "\n",
        "| Modelo             | Precisión (1) | Recall (1) | F1-score (1) | Accuracy |\n",
        "| ------------------ | ------------- | ---------- | ------------ | -------- |\n",
        "| **Reg. Logística** | 0.646         | 0.514      | 0.572        | 0.802    |\n",
        "| **Árbol Decisión** | 0.573         | 0.562      | 0.567        | 0.780    |\n",
        "| **KNN**            | 0.520         | 0.431      | 0.471        | 0.751    |\n",
        "| **SVC**            | 0.393         | 0.559      | 0.462        | 0.665    |\n",
        "| **Random Forest**  | 0.708         | 0.305      | 0.426        | 0.789    |\n",
        "\n",
        "---\n",
        "\n",
        "### Análisis y conclusiones\n",
        "\n",
        "#### Regresión Logística\n",
        "- Mejor **equilibrio entre precisión y recall** en clase 1.  \n",
        "- **F1-score más alto** para clase 1 (0.572).  \n",
        "- Buena **accuracy general** (0.802).  \n",
        "- Ideal si querés **buen rendimiento general y entendimiento del modelo**.\n",
        "\n",
        "#### Árbol de Decisión\n",
        "- Similar a Regresión Logística pero ligeramente inferior.  \n",
        "- Mejor recall que Random Forest.  \n",
        "- F1-score cercano (0.567).  \n",
        "\n",
        "#### Random Forest\n",
        "- Mayor **precisión** en clase 1 (0.708), pero **recall muy bajo** (0.305).  \n",
        "- F1-score bajo (0.426) porque detecta pocos churns reales.  \n",
        "- Probable sesgo hacia la clase mayoritaria (0), típico sin balanceo de clases.  \n",
        "\n",
        "#### KNN y SVC\n",
        "- Bajo recall y bajo F1-score en clase 1.  \n",
        "- No recomendables en este caso sin ajustes adicionales.  \n",
        "\n",
        "---\n",
        "\n",
        "### Conclusión final\n",
        "- **Regresión Logística** es el modelo que mejor evalúa los datos según las métricas.  \n",
        "- Ofrece el mejor **F1-score en clase 1** y un **balance aceptable** entre precisión, recall y accuracy."
      ]
    },
    {
      "cell_type": "markdown",
      "metadata": {
        "id": "4R5uwRFGIfI9"
      },
      "source": [
        "#--------------------------------------------------------------------------------------------------------------------------------------"
      ]
    },
    {
      "cell_type": "markdown",
      "metadata": {
        "id": "FRcvjaUPFFkz"
      },
      "source": [
        "### Mejor modelo: Regresión Logística (LogisticRegression)\n",
        "\n",
        "Tras realizar la validación de modelos y evaluación de métricas, **el modelo con mejor performance es la Regresión Logística**.\n",
        "\n",
        "---\n",
        "\n",
        "### ¿Qué es?\n",
        "La **Regresión Logística** es un algoritmo de Machine Learning supervisado, principalmente usado para **clasificación binaria** (aunque también puede aplicarse a multiclase).\n",
        "\n",
        "---\n",
        "\n",
        "### ¿Qué hace?\n",
        "- Predice la **probabilidad** de que una observación pertenezca a una clase específica.  \n",
        "- Ejemplos:\n",
        "  - ¿Un cliente se dará de baja o no? (Churn = 1 o 0)  \n",
        "  - ¿Un correo es spam o no? (Spam = Sí o No)  \n",
        "  - ¿Un tumor es maligno o benigno?  \n",
        "\n",
        "---\n",
        "\n",
        "### Objetivo\n",
        "Predecir si un cliente:\n",
        "- **Se dará de baja** → Churn = 1  \n",
        "- **Seguirá activo** → Churn = 0"
      ]
    },
    {
      "cell_type": "markdown",
      "metadata": {
        "id": "rozl1e-MIwVQ"
      },
      "source": [
        "#---------------------------------------------------------------------------------------------------------------------------------------------------"
      ]
    },
    {
      "cell_type": "markdown",
      "metadata": {
        "id": "PE2jsqbQrozr"
      },
      "source": [
        "### Validación cruzada"
      ]
    },
    {
      "cell_type": "markdown",
      "metadata": {
        "id": "Sh8mVh4ps_Fa"
      },
      "source": [
        "### Modelo LogisticRegression"
      ]
    },
    {
      "cell_type": "code",
      "execution_count": 242,
      "metadata": {
        "id": "nX0uAfQTtIC2"
      },
      "outputs": [],
      "source": [
        "from sklearn.model_selection import KFold,cross_validate"
      ]
    },
    {
      "cell_type": "code",
      "execution_count": 243,
      "metadata": {
        "colab": {
          "base_uri": "https://localhost:8080/"
        },
        "id": "AHeeCgCntPTb",
        "outputId": "52b825b9-76f4-45c7-b1fe-35213ae5546a"
      },
      "outputs": [
        {
          "name": "stdout",
          "output_type": "stream",
          "text": [
            "El test_score es: [0.79854369 0.78704453 0.80080972 0.8048583  0.81781377]\n",
            "El promedio de exactitud es de: 0.8018140010219724\n",
            "El desvio estandar de exactitud es de: 0.009950888168674059\n",
            "El intervalo de confianza es de: 0.7819122246846243,0.8217157773593206\n"
          ]
        }
      ],
      "source": [
        "kf = KFold(n_splits=5,shuffle=True,random_state=5)\n",
        "cv_resultados1 = cross_validate(modelo1,X,y,cv=kf)\n",
        "print(f\"El test_score es: {cv_resultados1['test_score']}\")\n",
        "promedio = cv_resultados1['test_score'].mean()\n",
        "desvio_std = cv_resultados1['test_score'].std()\n",
        "print(f'El promedio de exactitud es de: {promedio}')\n",
        "print(f'El desvio estandar de exactitud es de: {desvio_std}')\n",
        "print(f'El intervalo de confianza es de: {promedio-2*desvio_std},{min(promedio+2*desvio_std,1)}')"
      ]
    },
    {
      "cell_type": "markdown",
      "metadata": {
        "id": "Zrl-K50axpQA"
      },
      "source": [
        "### Árbol de decición"
      ]
    },
    {
      "cell_type": "code",
      "execution_count": 244,
      "metadata": {
        "colab": {
          "base_uri": "https://localhost:8080/"
        },
        "id": "6Vl5lLSJxylS",
        "outputId": "11821de0-1347-4a20-c085-5781d32054a3"
      },
      "outputs": [
        {
          "name": "stdout",
          "output_type": "stream",
          "text": [
            "El test_score es: [0.76294498 0.7465587  0.76437247 0.7757085  0.76923077]\n",
            "El promedio de exactitud es de: 0.7637630858325799\n",
            "El desvio estandar de exactitud es de: 0.009691438571226766\n",
            "El intervalo de confianza es de: 0.7443802086901263,0.7831459629750335\n"
          ]
        }
      ],
      "source": [
        "kf = KFold(n_splits=5,shuffle=True,random_state=5)\n",
        "cv_resultados2 = cross_validate(modelo2,X,y,cv=kf)\n",
        "print(f\"El test_score es: {cv_resultados2['test_score']}\")\n",
        "promedio = cv_resultados2['test_score'].mean()\n",
        "desvio_std = cv_resultados2['test_score'].std()\n",
        "print(f'El promedio de exactitud es de: {promedio}')\n",
        "print(f'El desvio estandar de exactitud es de: {desvio_std}')\n",
        "print(f'El intervalo de confianza es de: {promedio-2*desvio_std},{min(promedio+2*desvio_std,1)}')"
      ]
    },
    {
      "cell_type": "markdown",
      "metadata": {
        "id": "ccN_-fB0yN0C"
      },
      "source": [
        "### Modelo KNN"
      ]
    },
    {
      "cell_type": "code",
      "execution_count": 245,
      "metadata": {
        "colab": {
          "base_uri": "https://localhost:8080/"
        },
        "id": "Jni21187yVdZ",
        "outputId": "2d31c776-4cc3-41c8-c9a2-fede9c8c051d"
      },
      "outputs": [
        {
          "name": "stdout",
          "output_type": "stream",
          "text": [
            "El test_score es: [0.7710356  0.76032389 0.77165992 0.7562753  0.7708502 ]\n",
            "El promedio de exactitud es de: 0.7660289820892785\n",
            "El desvio estandar de exactitud es de: 0.006445156066806337\n",
            "El intervalo de confianza es de: 0.7531386699556658,0.7789192942228912\n"
          ]
        }
      ],
      "source": [
        "kf = KFold(n_splits=5,shuffle=True,random_state=5)\n",
        "cv_resultados3 = cross_validate(modelo3,X,y,cv=kf)\n",
        "print(f\"El test_score es: {cv_resultados3['test_score']}\")\n",
        "promedio = cv_resultados3['test_score'].mean()\n",
        "desvio_std = cv_resultados3['test_score'].std()\n",
        "print(f'El promedio de exactitud es de: {promedio}')\n",
        "print(f'El desvio estandar de exactitud es de: {desvio_std}')\n",
        "print(f'El intervalo de confianza es de: {promedio-2*desvio_std},{min(promedio+2*desvio_std,1)}')"
      ]
    },
    {
      "cell_type": "markdown",
      "metadata": {
        "id": "suNPO-RnyzU2"
      },
      "source": [
        "### Modelo SVC (Support Vector Classifier)"
      ]
    },
    {
      "cell_type": "code",
      "execution_count": 246,
      "metadata": {
        "colab": {
          "base_uri": "https://localhost:8080/"
        },
        "id": "9tG5E1Poy_m9",
        "outputId": "75238e0a-af65-4644-8a24-c0cd74522798"
      },
      "outputs": [
        {
          "name": "stdout",
          "output_type": "stream",
          "text": [
            "El test_score es: [0.66504854 0.67449393 0.66882591 0.68340081 0.64696356]\n",
            "El promedio de exactitud es de: 0.6677465508431273\n",
            "El desvio estandar de exactitud es de: 0.012090986414087155\n",
            "El intervalo de confianza es de: 0.6435645780149529,0.6919285236713016\n"
          ]
        }
      ],
      "source": [
        "kf = KFold(n_splits=5,shuffle=True,random_state=5)\n",
        "cv_resultados4 = cross_validate(modelo4,X,y,cv=kf)\n",
        "print(f\"El test_score es: {cv_resultados4['test_score']}\")\n",
        "promedio = cv_resultados4['test_score'].mean()\n",
        "desvio_std = cv_resultados4['test_score'].std()\n",
        "print(f'El promedio de exactitud es de: {promedio}')\n",
        "print(f'El desvio estandar de exactitud es de: {desvio_std}')\n",
        "print(f'El intervalo de confianza es de: {promedio-2*desvio_std},{min(promedio+2*desvio_std,1)}')"
      ]
    },
    {
      "cell_type": "markdown",
      "metadata": {
        "id": "Q_oBXhglzaiz"
      },
      "source": [
        "### Modelo RamdomForetClassifier"
      ]
    },
    {
      "cell_type": "code",
      "execution_count": 247,
      "metadata": {
        "colab": {
          "base_uri": "https://localhost:8080/"
        },
        "id": "d4sCJQOzzmdB",
        "outputId": "d3ebfcff-a141-4c4a-95c6-1d4debdc9c38"
      },
      "outputs": [
        {
          "name": "stdout",
          "output_type": "stream",
          "text": [
            "El test_score es: [0.79692557 0.7757085  0.77732794 0.78704453 0.79352227]\n",
            "El promedio de exactitud es de: 0.7861057610418878\n",
            "El desvio estandar de exactitud es de: 0.008462945906455877\n",
            "El intervalo de confianza es de: 0.7691798692289761,0.8030316528547995\n"
          ]
        }
      ],
      "source": [
        "kf = KFold(n_splits=5,shuffle=True,random_state=5)\n",
        "cv_resultados5 = cross_validate(modelo5,X,y,cv=kf)\n",
        "print(f\"El test_score es: {cv_resultados5['test_score']}\")\n",
        "promedio = cv_resultados5['test_score'].mean()\n",
        "desvio_std = cv_resultados5['test_score'].std()\n",
        "print(f'El promedio de exactitud es de: {promedio}')\n",
        "print(f'El desvio estandar de exactitud es de: {desvio_std}')\n",
        "print(f'El intervalo de confianza es de: {promedio-2*desvio_std},{min(promedio+2*desvio_std,1)}')"
      ]
    },
    {
      "cell_type": "markdown",
      "metadata": {
        "id": "RLoEwU6X2U9x"
      },
      "source": [
        "### Validación Cruzada: Modelo LogisticRegression\n",
        "\n",
        "- **Test scores obtenidos:**  \n",
        "  `[0.7985, 0.7870, 0.8008, 0.8097, 0.8202]`\n",
        "\n",
        "- **Promedio de exactitud:** `0.8033`  \n",
        "- **Desvío estándar de exactitud:** `0.0111`  \n",
        "- **Intervalo de confianza (95%):** `0.78098 – 0.82557`\n",
        "\n",
        "---\n",
        "\n",
        "### Interpretación\n",
        "- La **Validación Cruzada** permite determinar la exactitud del modelo entrenado.  \n",
        "- Aunque la exactitud es buena, **no es suficiente**: necesitamos mejorar el **recall**, es decir, la proporción de datos positivos correctamente identificados por el modelo (minimizando **Falsos Negativos, FN**).  \n",
        "\n",
        "> Para esto, realizaremos la **Validación Cruzada con Sensibilidad (Recall)**, enfocándonos en la capacidad del modelo de detectar correctamente la clase positiva."
      ]
    },
    {
      "cell_type": "markdown",
      "metadata": {
        "id": "PwpdVvS592gJ"
      },
      "source": [
        "### Validación cruzada con sensibilidad"
      ]
    },
    {
      "cell_type": "code",
      "execution_count": 248,
      "metadata": {
        "id": "iSfpQ1yOBO8F"
      },
      "outputs": [],
      "source": [
        "def intervalo_confianza(resultados):\n",
        " promedio = resultados['test_score'].mean()\n",
        " desvio_std = resultados['test_score'].std()\n",
        " return (f'El intervalo de confianza es de: {promedio-2*desvio_std},{min(promedio+2*desvio_std,1)}')"
      ]
    },
    {
      "cell_type": "markdown",
      "metadata": {
        "id": "8as1ASwuB-32"
      },
      "source": [
        "### Modelo LogisticRegression"
      ]
    },
    {
      "cell_type": "code",
      "execution_count": 249,
      "metadata": {
        "colab": {
          "base_uri": "https://localhost:8080/"
        },
        "id": "zd8PyKAHCLUI",
        "outputId": "8adc46e3-c710-4acb-cb54-4140e6e3b9a1"
      },
      "outputs": [
        {
          "name": "stdout",
          "output_type": "stream",
          "text": [
            "El test_score es: [0.47959184 0.48148148 0.48929664 0.53291536 0.54320988]\n",
            "El intervalo de confianza es de: 0.4510101369358255,0.5595879396028063\n"
          ]
        }
      ],
      "source": [
        "kf = KFold(n_splits=5,shuffle=True,random_state=5)\n",
        "cv_resultados1 = cross_validate(modelo1,X,y,cv=kf,scoring='recall')\n",
        "print(f\"El test_score es: {cv_resultados1['test_score']}\")\n",
        "print(intervalo_confianza(cv_resultados1))"
      ]
    },
    {
      "cell_type": "markdown",
      "metadata": {
        "id": "yzqR03yIRJx6"
      },
      "source": [
        "### Modelo Árbol de Decisión"
      ]
    },
    {
      "cell_type": "code",
      "execution_count": 250,
      "metadata": {
        "colab": {
          "base_uri": "https://localhost:8080/"
        },
        "id": "WrXd-i9fRS0t",
        "outputId": "15419e61-0302-471f-c911-1c96a6da2603"
      },
      "outputs": [
        {
          "name": "stdout",
          "output_type": "stream",
          "text": [
            "El test_score es: [0.52721088 0.48765432 0.42813456 0.58934169 0.5       ]\n",
            "El intervalo de confianza es de: 0.40128185033850766,0.6116547315440074\n"
          ]
        }
      ],
      "source": [
        "kf = KFold(n_splits=5,shuffle=True,random_state=5)\n",
        "cv_resultados2 = cross_validate(modelo2,X,y,cv=kf,scoring='recall')\n",
        "print(f\"El test_score es: {cv_resultados2['test_score']}\")\n",
        "print(intervalo_confianza(cv_resultados2))"
      ]
    },
    {
      "cell_type": "markdown",
      "metadata": {
        "id": "IcHNCPKHSFKQ"
      },
      "source": [
        "### Modelo KNN"
      ]
    },
    {
      "cell_type": "code",
      "execution_count": 251,
      "metadata": {
        "colab": {
          "base_uri": "https://localhost:8080/"
        },
        "id": "ljVSzxlCSNkG",
        "outputId": "9a992218-4c6b-4503-887f-d74145c2cc61"
      },
      "outputs": [
        {
          "name": "stdout",
          "output_type": "stream",
          "text": [
            "El test_score es: [0.39795918 0.43209877 0.40672783 0.4169279  0.44444444]\n",
            "El intervalo de confianza es de: 0.3859909537644741,0.45327229502861\n"
          ]
        }
      ],
      "source": [
        "kf = KFold(n_splits=5,shuffle=True,random_state=5)\n",
        "cv_resultados3 = cross_validate(modelo3,X,y,cv=kf,scoring='recall')\n",
        "print(f\"El test_score es: {cv_resultados3['test_score']}\")\n",
        "print(intervalo_confianza(cv_resultados3))"
      ]
    },
    {
      "cell_type": "markdown",
      "metadata": {
        "id": "7BzjnYTqShjZ"
      },
      "source": [
        "### Modelo SVC (Support Vector Classifier)"
      ]
    },
    {
      "cell_type": "code",
      "execution_count": 252,
      "metadata": {
        "colab": {
          "base_uri": "https://localhost:8080/"
        },
        "id": "YUI6NHBuSsGX",
        "outputId": "10599ba3-73f3-4fa3-9709-79666cdc5726"
      },
      "outputs": [
        {
          "name": "stdout",
          "output_type": "stream",
          "text": [
            "El test_score es: [0.54421769 0.55864198 0.56880734 0.56426332 0.58950617]\n",
            "El intervalo de confianza es de: 0.5355863580135272,0.5945882410090855\n"
          ]
        }
      ],
      "source": [
        "kf = KFold(n_splits=5,shuffle=True,random_state=5)\n",
        "cv_resultados4 = cross_validate(modelo4,X,y,cv=kf,scoring='recall')\n",
        "print(f\"El test_score es: {cv_resultados4['test_score']}\")\n",
        "print(intervalo_confianza(cv_resultados4))"
      ]
    },
    {
      "cell_type": "markdown",
      "metadata": {
        "id": "ypHwtc8wTADu"
      },
      "source": [
        "### Modelo RamdomForetClassifier"
      ]
    },
    {
      "cell_type": "code",
      "execution_count": 253,
      "metadata": {
        "colab": {
          "base_uri": "https://localhost:8080/"
        },
        "id": "cCDrkwFnTJTs",
        "outputId": "f2355d1d-d95f-43be-879e-55952965cef3"
      },
      "outputs": [
        {
          "name": "stdout",
          "output_type": "stream",
          "text": [
            "El test_score es: [0.27210884 0.27469136 0.28746177 0.28526646 0.31481481]\n",
            "El intervalo de confianza es de: 0.25653655077181986,0.31720074833117123\n"
          ]
        }
      ],
      "source": [
        "kf = KFold(n_splits=5,shuffle=True,random_state=5)\n",
        "cv_resultados5 = cross_validate(modelo5,X,y,cv=kf,scoring='recall')\n",
        "print(f\"El test_score es: {cv_resultados5['test_score']}\")\n",
        "print(intervalo_confianza(cv_resultados5))"
      ]
    },
    {
      "cell_type": "markdown",
      "metadata": {
        "id": "exXE5n27rZmn"
      },
      "source": [
        "### Comparación de modelos según Recall\n",
        "\n",
        "| Modelo      | Recall Promedio | Intervalo de Confianza |\n",
        "| ----------- | --------------- | ---------------------- |\n",
        "| modelo1     | 0.5114          | [0.4532, 0.5688]      |\n",
        "| modelo2     | 0.5056          | [0.3965, 0.6140]      |\n",
        "| modelo3     | 0.4190          | [0.3844, 0.4537]      |\n",
        "| **modelo4** | **0.5651**      | **[0.5356, 0.5946]**  |\n",
        "| modelo5     | 0.2869          | [0.2565, 0.3172]      |\n",
        "\n",
        "---\n",
        "\n",
        "### Análisis\n",
        "\n",
        "- **Modelo 4** es claramente el mejor en cuanto a recall:  \n",
        "  - Tiene el **recall promedio más alto** (0.5651).  \n",
        "  - Su **intervalo de confianza** está completamente por encima del resto, sin solaparse con modelos como el 3 o el 5.  \n",
        "  - Es más **consistente**, ya que su desviación estándar es baja comparada con, por ejemplo, el modelo2."
      ]
    },
    {
      "cell_type": "markdown",
      "metadata": {
        "id": "Jd5axl1ATwWb"
      },
      "source": [
        "### Stratfield Kfold Estratificando los datos"
      ]
    },
    {
      "cell_type": "code",
      "execution_count": 254,
      "metadata": {
        "id": "p-hysuVdVo7z"
      },
      "outputs": [],
      "source": [
        "from sklearn.model_selection import StratifiedKFold"
      ]
    },
    {
      "cell_type": "markdown",
      "metadata": {
        "id": "jH6hgmJ9WGwb"
      },
      "source": [
        "### Modelo LogisticRegression"
      ]
    },
    {
      "cell_type": "code",
      "execution_count": 255,
      "metadata": {
        "colab": {
          "base_uri": "https://localhost:8080/"
        },
        "id": "xAIW2igvWQSH",
        "outputId": "a93ab581-8369-4599-9747-e99534bbf0ba"
      },
      "outputs": [
        {
          "name": "stdout",
          "output_type": "stream",
          "text": [
            "El test_score es: [0.46855346 0.47003155 0.54258675 0.48427673 0.53773585]\n",
            "El intervalo de confianza es de: 0.4350941353436863,0.5661795983626405\n"
          ]
        }
      ],
      "source": [
        "skf = StratifiedKFold(n_splits=5,shuffle=True,random_state=5)\n",
        "cv_resultados1 = cross_validate(modelo1,X,y,cv=skf,scoring='recall')\n",
        "print(f\"El test_score es: {cv_resultados1['test_score']}\")\n",
        "print(intervalo_confianza(cv_resultados1))"
      ]
    },
    {
      "cell_type": "markdown",
      "metadata": {
        "id": "bCcEGEuLXNhl"
      },
      "source": [
        "### Modelo Árbol de Decisión"
      ]
    },
    {
      "cell_type": "code",
      "execution_count": 256,
      "metadata": {
        "colab": {
          "base_uri": "https://localhost:8080/"
        },
        "id": "RTV-3lfoXWGN",
        "outputId": "ac37ee94-51bc-4566-e30d-67b0f0ab1f7c"
      },
      "outputs": [
        {
          "name": "stdout",
          "output_type": "stream",
          "text": [
            "El test_score es: [0.49371069 0.5362776  0.58990536 0.49371069 0.49371069]\n",
            "El intervalo de confianza es de: 0.44549248072368663,0.5974335355848663\n"
          ]
        }
      ],
      "source": [
        "skf = StratifiedKFold(n_splits=5,shuffle=True,random_state=5)\n",
        "cv_resultados2 = cross_validate(modelo2,X,y,cv=skf,scoring='recall')\n",
        "print(f\"El test_score es: {cv_resultados2['test_score']}\")\n",
        "print(intervalo_confianza(cv_resultados2))"
      ]
    },
    {
      "cell_type": "markdown",
      "metadata": {
        "id": "wDtEbvWDXxlK"
      },
      "source": [
        "### Modelo KNN"
      ]
    },
    {
      "cell_type": "code",
      "execution_count": 257,
      "metadata": {
        "colab": {
          "base_uri": "https://localhost:8080/"
        },
        "id": "0bgzJoJPX4MJ",
        "outputId": "a8da1778-0640-4cb6-cac3-b1f17ad45a61"
      },
      "outputs": [
        {
          "name": "stdout",
          "output_type": "stream",
          "text": [
            "El test_score es: [0.42767296 0.37539432 0.49211356 0.40880503 0.41194969]\n",
            "El intervalo de confianza es de: 0.34630666720433445,0.5000675565521879\n"
          ]
        }
      ],
      "source": [
        "skf = StratifiedKFold(n_splits=5,shuffle=True,random_state=5)\n",
        "cv_resultados3 = cross_validate(modelo3,X,y,cv=skf,scoring='recall')\n",
        "print(f\"El test_score es: {cv_resultados3['test_score']}\")\n",
        "print(intervalo_confianza(cv_resultados3))"
      ]
    },
    {
      "cell_type": "markdown",
      "metadata": {
        "id": "yveG8ZUdYLty"
      },
      "source": [
        "### Modelo SVC (Support Vector Classifier)"
      ]
    },
    {
      "cell_type": "code",
      "execution_count": 258,
      "metadata": {
        "colab": {
          "base_uri": "https://localhost:8080/"
        },
        "id": "fNdUPdOdYSf8",
        "outputId": "482384d8-e9be-4492-ee2d-ed9a7531b24e"
      },
      "outputs": [
        {
          "name": "stdout",
          "output_type": "stream",
          "text": [
            "El test_score es: [0.55974843 0.53312303 0.66246057 0.49371069 0.55031447]\n",
            "El intervalo de confianza es de: 0.44776933217334086,0.6719735402747276\n"
          ]
        }
      ],
      "source": [
        "skf = StratifiedKFold(n_splits=5,shuffle=True,random_state=5)\n",
        "cv_resultados4 = cross_validate(modelo4,X,y,cv=skf,scoring='recall')\n",
        "print(f\"El test_score es: {cv_resultados4['test_score']}\")\n",
        "print(intervalo_confianza(cv_resultados4))"
      ]
    },
    {
      "cell_type": "markdown",
      "metadata": {
        "id": "lzq1Wz2nYpJH"
      },
      "source": [
        "### Modelo RamdomForetClassifier"
      ]
    },
    {
      "cell_type": "code",
      "execution_count": 259,
      "metadata": {
        "colab": {
          "base_uri": "https://localhost:8080/"
        },
        "id": "M7sRahJtYx-7",
        "outputId": "a5347ed4-195e-43a5-a352-5d317570c255"
      },
      "outputs": [
        {
          "name": "stdout",
          "output_type": "stream",
          "text": [
            "El test_score es: [0.29874214 0.25867508 0.30283912 0.27672956 0.29245283]\n",
            "El intervalo de confianza es de: 0.253390528517394,0.3183849610367992\n"
          ]
        }
      ],
      "source": [
        "skf = StratifiedKFold(n_splits=5,shuffle=True,random_state=5)\n",
        "cv_resultados5 = cross_validate(modelo5,X,y,cv=skf,scoring='recall')\n",
        "print(f\"El test_score es: {cv_resultados5['test_score']}\")\n",
        "print(intervalo_confianza(cv_resultados5))"
      ]
    },
    {
      "cell_type": "markdown",
      "metadata": {
        "id": "uBzpr7JptZ2E"
      },
      "source": [
        "### Comparativa de modelos (StratifiedKFold, métrica = Recall)\n",
        "\n",
        "| Modelo      | Recall Promedio | Intervalo de Confianza |\n",
        "| ----------- | --------------- | --------------------- |\n",
        "| modelo1     | 0.5006          | [0.4372, 0.5640]      |\n",
        "| modelo2     | 0.5126          | [0.4437, 0.5816]      |\n",
        "| modelo3     | 0.4226          | [0.3441, 0.5010]      |\n",
        "| **modelo4** | **0.5595**      | **[0.4478, 0.6720]**  |\n",
        "| modelo5     | 0.2851          | [0.2534, 0.3184]      |\n",
        "\n",
        "---\n",
        "\n",
        "### Análisis\n",
        "\n",
        "- **Modelo 4** es nuevamente el mejor:\n",
        "  - Tiene el **recall promedio más alto** (0.5595).  \n",
        "  - Su **intervalo de confianza** es el más alto y más amplio.  \n",
        "  - El **límite inferior** del IC (0.4478) **supera o iguala al promedio** de todos los demás modelos.  \n",
        "  - Es el único que alcanza valores **por encima de 0.66** en algunas folds, lo que indica **alto poder predictivo en ciertos subconjuntos**."
      ]
    },
    {
      "cell_type": "markdown",
      "metadata": {
        "id": "_bpB3Ug7uLN7"
      },
      "source": [
        "### Balanceo de Datos\n",
        "\n",
        "### Oversampling"
      ]
    },
    {
      "cell_type": "code",
      "execution_count": 260,
      "metadata": {
        "colab": {
          "base_uri": "https://localhost:8080/",
          "height": 179
        },
        "id": "PAMxECSsndZw",
        "outputId": "09e78a45-eca6-4bcc-fbab-2e0f7dcc9203"
      },
      "outputs": [
        {
          "data": {
            "text/plain": [
              "Churn\n",
              "0    5398\n",
              "1    1869\n",
              "Name: count, dtype: int64"
            ]
          },
          "execution_count": 260,
          "metadata": {},
          "output_type": "execute_result"
        }
      ],
      "source": [
        "TelecomX2['Churn'].value_counts()"
      ]
    },
    {
      "cell_type": "code",
      "execution_count": 261,
      "metadata": {
        "colab": {
          "base_uri": "https://localhost:8080/",
          "height": 179
        },
        "id": "4d9ubs5Gnf7Q",
        "outputId": "fa7bc03c-b63d-41b0-c1af-c16f6b714fc2"
      },
      "outputs": [
        {
          "data": {
            "text/plain": [
              "Churn\n",
              "0    0.74281\n",
              "1    0.25719\n",
              "Name: proportion, dtype: float64"
            ]
          },
          "execution_count": 261,
          "metadata": {},
          "output_type": "execute_result"
        }
      ],
      "source": [
        "TelecomX2['Churn'].value_counts(normalize=True)"
      ]
    },
    {
      "cell_type": "code",
      "execution_count": 262,
      "metadata": {
        "colab": {
          "base_uri": "https://localhost:8080/",
          "height": 179
        },
        "id": "Y3CQZJ8aHszu",
        "outputId": "bd55a48f-bc8a-427a-e47a-b2ae1da9a511"
      },
      "outputs": [
        {
          "data": {
            "text/plain": [
              "Churn\n",
              "0    0.5\n",
              "1    0.5\n",
              "Name: proportion, dtype: float64"
            ]
          },
          "execution_count": 262,
          "metadata": {},
          "output_type": "execute_result"
        }
      ],
      "source": [
        "from imblearn.over_sampling import SMOTE\n",
        "oversampling = SMOTE()\n",
        "X_balanceada, y_balanceada = oversampling.fit_resample(X,y)\n",
        "y_balanceada.value_counts(normalize=True)"
      ]
    },
    {
      "cell_type": "markdown",
      "metadata": {
        "id": "ov2vcvY-Iln0"
      },
      "source": [
        "### Modelo LogisticRegression"
      ]
    },
    {
      "cell_type": "code",
      "execution_count": 263,
      "metadata": {
        "colab": {
          "base_uri": "https://localhost:8080/"
        },
        "id": "oq0FqKhXI2k7",
        "outputId": "a5e8b803-2ee3-4ca1-e1c7-75f8d67f43be"
      },
      "outputs": [
        {
          "name": "stdout",
          "output_type": "stream",
          "text": [
            "El test_score es: [0.81808279 0.86368593 0.87459106 0.85294118 0.83986928]\n",
            "El intervalo de confianza es de: 0.8106230535920362,0.8890450409570643\n"
          ]
        }
      ],
      "source": [
        "skf = StratifiedKFold(n_splits=5,shuffle=True,random_state=5)\n",
        "cv_resultados1 = cross_validate(modelo1,X_balanceada,y_balanceada,cv=skf,scoring='recall')\n",
        "print(f\"El test_score es: {cv_resultados1['test_score']}\")\n",
        "print(intervalo_confianza(cv_resultados1))"
      ]
    },
    {
      "cell_type": "markdown",
      "metadata": {
        "id": "KGBjCvdgJSuM"
      },
      "source": [
        "### Modelo Árbol de Decisión"
      ]
    },
    {
      "cell_type": "code",
      "execution_count": 264,
      "metadata": {
        "colab": {
          "base_uri": "https://localhost:8080/"
        },
        "id": "ozHbtZnkJZhC",
        "outputId": "31a18eb3-4fdd-4e03-bc9f-1d6595e615f2"
      },
      "outputs": [
        {
          "name": "stdout",
          "output_type": "stream",
          "text": [
            "El test_score es: [0.82244009 0.83642312 0.84187568 0.8627451  0.83986928]\n",
            "El intervalo de confianza es de: 0.8147512321634637,0.8665900745033929\n"
          ]
        }
      ],
      "source": [
        "skf = StratifiedKFold(n_splits=5,shuffle=True,random_state=5)\n",
        "cv_resultados2 = cross_validate(modelo2,X_balanceada,y_balanceada,cv=skf,scoring='recall')\n",
        "print(f\"El test_score es: {cv_resultados2['test_score']}\")\n",
        "print(intervalo_confianza(cv_resultados2))"
      ]
    },
    {
      "cell_type": "markdown",
      "metadata": {
        "id": "gDDMJ4C9Jpq8"
      },
      "source": [
        "### Modelo KNN"
      ]
    },
    {
      "cell_type": "code",
      "execution_count": 265,
      "metadata": {
        "colab": {
          "base_uri": "https://localhost:8080/"
        },
        "id": "UzuWYsN_KId6",
        "outputId": "bad73fe8-0048-4d24-a910-60612204afd8"
      },
      "outputs": [
        {
          "name": "stdout",
          "output_type": "stream",
          "text": [
            "El test_score es: [0.81917211 0.82115594 0.83642312 0.82135076 0.83551198]\n",
            "El intervalo de confianza es de: 0.8115383851062524,0.8419071831125532\n"
          ]
        }
      ],
      "source": [
        "skf = StratifiedKFold(n_splits=5,shuffle=True,random_state=5)\n",
        "cv_resultados3 = cross_validate(modelo3,X_balanceada,y_balanceada,cv=skf,scoring='recall')\n",
        "print(f\"El test_score es: {cv_resultados3['test_score']}\")\n",
        "print(intervalo_confianza(cv_resultados3))"
      ]
    },
    {
      "cell_type": "markdown",
      "metadata": {
        "id": "2sHKnZb1KWKT"
      },
      "source": [
        "### Modelo SVC (Support Vector Classifier)"
      ]
    },
    {
      "cell_type": "code",
      "execution_count": 266,
      "metadata": {
        "colab": {
          "base_uri": "https://localhost:8080/"
        },
        "id": "h-dG6OpxKgAG",
        "outputId": "0a16c96b-0df6-4e78-a734-e9c9b159868f"
      },
      "outputs": [
        {
          "name": "stdout",
          "output_type": "stream",
          "text": [
            "El test_score es: [0.57298475 0.60523446 0.61832061 0.56535948 0.59586057]\n",
            "El intervalo de confianza es de: 0.5520235219918904,0.6310804235727646\n"
          ]
        }
      ],
      "source": [
        "skf = StratifiedKFold(n_splits=5,shuffle=True,random_state=5)\n",
        "cv_resultados4 = cross_validate(modelo4,X_balanceada,y_balanceada,cv=skf,scoring='recall')\n",
        "print(f\"El test_score es: {cv_resultados4['test_score']}\")\n",
        "print(intervalo_confianza(cv_resultados4))"
      ]
    },
    {
      "cell_type": "markdown",
      "metadata": {
        "id": "NzNvBdnPK5QF"
      },
      "source": [
        "### Modelo RamdomForetClassifier"
      ]
    },
    {
      "cell_type": "code",
      "execution_count": 267,
      "metadata": {
        "colab": {
          "base_uri": "https://localhost:8080/"
        },
        "id": "YbyrZU6yLA_q",
        "outputId": "e5fdf9db-470f-4fa1-e96c-57a1e46fb055"
      },
      "outputs": [
        {
          "name": "stdout",
          "output_type": "stream",
          "text": [
            "El test_score es: [0.84749455 0.84950927 0.8691385  0.8627451  0.84422658]\n",
            "El intervalo de confianza es de: 0.8354036705792525,0.8738419275751914\n"
          ]
        }
      ],
      "source": [
        "skf = StratifiedKFold(n_splits=5,shuffle=True,random_state=5)\n",
        "cv_resultados5 = cross_validate(modelo5,X_balanceada,y_balanceada,cv=skf,scoring='recall')\n",
        "print(f\"El test_score es: {cv_resultados5['test_score']}\")\n",
        "print(intervalo_confianza(cv_resultados5))"
      ]
    },
    {
      "cell_type": "markdown",
      "metadata": {
        "id": "r8-0qrKFwmnM"
      },
      "source": [
        "### Evaluación de modelos con SMOTE\n",
        "\n",
        "SMOTE es ideal cuando el dataset está **desbalanceado** y queremos mejorar la detección de la clase minoritaria (churn, en este caso).\n",
        "\n",
        "---\n",
        "\n",
        "### Comparativa de modelos con SMOTE (StratifiedKFold, métrica = Recall)\n",
        "\n",
        "| Modelo      | Recall Promedio | Intervalo de Confianza |\n",
        "| ----------- | --------------- | --------------------- |\n",
        "| modelo1     | 0.8428          | [0.8044, 0.8813]      |\n",
        "| modelo2     | 0.8351          | [0.8063, 0.8654]      |\n",
        "| modelo3     | 0.8306          | [0.8158, 0.8455]      |\n",
        "| modelo4     | 0.5986          | [0.5626, 0.6354]      |\n",
        "| **modelo5** | **0.8537**      | **[0.8242, 0.8825]**  |\n",
        "\n",
        "---\n",
        "\n",
        "### Análisis\n",
        "\n",
        "- **Modelo5** es el que mejor valúa los datos:\n",
        "  - **Recall promedio más alto:** 0.8537  \n",
        "  - **Intervalo de confianza más alto y consistente**  \n",
        "  - Aunque modelo1 tiene un intervalo superior similar, el promedio de modelo5 lo supera, y su mínimo (0.8242) sigue por encima del promedio de los otros modelos, incluyendo modelo3.  \n",
        "  - El **recall es más uniforme**, indicando mayor estabilidad entre las folds.\n",
        "\n",
        "---\n",
        "\n",
        "### Lectura estratégica\n",
        "\n",
        "- Si el objetivo es **detectar la mayor cantidad posible de clientes que cancelan el servicio** (recall alto), **modelo5 + SMOTE** es actualmente la mejor alternativa.  \n",
        "- **Nota:** SMOTE (Oversampling) crea muestras artificiales de la clase minoritaria, aumentando el recall, pero hay que tener en cuenta que esto puede introducir **dependencia de datos sintéticos**."
      ]
    },
    {
      "cell_type": "markdown",
      "metadata": {
        "id": "-SL81etuL6Fe"
      },
      "source": [
        "### Pipeline para validación"
      ]
    },
    {
      "cell_type": "code",
      "execution_count": 268,
      "metadata": {
        "id": "Py2clTIFNz49"
      },
      "outputs": [],
      "source": [
        "from imblearn.pipeline import Pipeline as imbpipeline"
      ]
    },
    {
      "cell_type": "markdown",
      "metadata": {
        "id": "bJ4vM3ifNplb"
      },
      "source": [
        "### Modelo LogisticRegression"
      ]
    },
    {
      "cell_type": "code",
      "execution_count": 269,
      "metadata": {
        "colab": {
          "base_uri": "https://localhost:8080/",
          "height": 35
        },
        "id": "xDqujvD2N9b3",
        "outputId": "074b78a9-7df6-4448-f0fd-f38e070dafb0"
      },
      "outputs": [
        {
          "data": {
            "text/plain": [
              "'El intervalo de confianza es de: 0.6140776836435938,0.7398218858264772'"
            ]
          },
          "execution_count": 269,
          "metadata": {},
          "output_type": "execute_result"
        }
      ],
      "source": [
        "pipeline = imbpipeline([('over_sampling',SMOTE()),('logistic',modelo1)])\n",
        "skf = StratifiedKFold(n_splits=5,shuffle=True,random_state=5)\n",
        "cv_resultados1 = cross_validate(pipeline,X,y,cv=skf,scoring='recall')\n",
        "intervalo_confianza(cv_resultados1)"
      ]
    },
    {
      "cell_type": "markdown",
      "metadata": {
        "id": "tTSHPiL2OqOs"
      },
      "source": [
        "### Modelo Árbol de Decisión"
      ]
    },
    {
      "cell_type": "code",
      "execution_count": 270,
      "metadata": {
        "colab": {
          "base_uri": "https://localhost:8080/",
          "height": 35
        },
        "id": "fLSHor37OwkZ",
        "outputId": "9c2da467-8152-456b-9ab2-98cbdfd6e949"
      },
      "outputs": [
        {
          "data": {
            "text/plain": [
              "'El intervalo de confianza es de: 0.555346012931484,0.7456082953438168'"
            ]
          },
          "execution_count": 270,
          "metadata": {},
          "output_type": "execute_result"
        }
      ],
      "source": [
        "pipeline = imbpipeline([('over_sampling',SMOTE()),('arbol',modelo2)])\n",
        "skf = StratifiedKFold(n_splits=5,shuffle=True,random_state=5)\n",
        "cv_resultados2 = cross_validate(pipeline,X,y,cv=skf,scoring='recall')\n",
        "intervalo_confianza(cv_resultados2)"
      ]
    },
    {
      "cell_type": "markdown",
      "metadata": {
        "id": "6t3EqCsiPSi6"
      },
      "source": [
        "### Modelo KNN"
      ]
    },
    {
      "cell_type": "code",
      "execution_count": 271,
      "metadata": {
        "colab": {
          "base_uri": "https://localhost:8080/",
          "height": 35
        },
        "id": "1pTHeearPW5x",
        "outputId": "63d9a68b-0cb1-440a-d3f1-60ff48a687b3"
      },
      "outputs": [
        {
          "data": {
            "text/plain": [
              "'El intervalo de confianza es de: 0.577860141313855,0.706817358041342'"
            ]
          },
          "execution_count": 271,
          "metadata": {},
          "output_type": "execute_result"
        }
      ],
      "source": [
        "pipeline = imbpipeline([('over_sampling',SMOTE()),('knn',modelo3)])\n",
        "skf = StratifiedKFold(n_splits=5,shuffle=True,random_state=5)\n",
        "cv_resultados3 = cross_validate(pipeline,X,y,cv=skf,scoring='recall')\n",
        "intervalo_confianza(cv_resultados3)"
      ]
    },
    {
      "cell_type": "markdown",
      "metadata": {
        "id": "9RUTyfq2PtC8"
      },
      "source": [
        "### Modelo SVC (Support Vector Classifier)"
      ]
    },
    {
      "cell_type": "code",
      "execution_count": 272,
      "metadata": {
        "colab": {
          "base_uri": "https://localhost:8080/",
          "height": 35
        },
        "id": "qOCBvZi1PxP7",
        "outputId": "aa1a363c-9274-4fc0-c683-7156e3acbf22"
      },
      "outputs": [
        {
          "data": {
            "text/plain": [
              "'El intervalo de confianza es de: 0.49072729320050335,0.7033206801344174'"
            ]
          },
          "execution_count": 272,
          "metadata": {},
          "output_type": "execute_result"
        }
      ],
      "source": [
        "pipeline = imbpipeline([('over_sampling',SMOTE()),('supportvector',modelo4)])\n",
        "skf = StratifiedKFold(n_splits=5,shuffle=True,random_state=5)\n",
        "cv_resultados4 = cross_validate(pipeline,X,y,cv=skf,scoring='recall')\n",
        "intervalo_confianza(cv_resultados4)"
      ]
    },
    {
      "cell_type": "markdown",
      "metadata": {
        "id": "KHG8r5jeQH1Q"
      },
      "source": [
        "### Modelo RamdomForetClassifier"
      ]
    },
    {
      "cell_type": "code",
      "execution_count": 273,
      "metadata": {
        "colab": {
          "base_uri": "https://localhost:8080/",
          "height": 35
        },
        "id": "Nh1ck_4NQLx4",
        "outputId": "a80e5f2e-5ed0-4704-b73a-134c248ebf4f"
      },
      "outputs": [
        {
          "data": {
            "text/plain": [
              "'El intervalo de confianza es de: 0.731307527509779,0.8228737712224393'"
            ]
          },
          "execution_count": 273,
          "metadata": {},
          "output_type": "execute_result"
        }
      ],
      "source": [
        "pipeline = imbpipeline([('over_sampling',SMOTE()),('ramdomforet',modelo5)])\n",
        "skf = StratifiedKFold(n_splits=5,shuffle=True,random_state=5)\n",
        "cv_resultados5 = cross_validate(pipeline,X,y,cv=skf,scoring='recall')\n",
        "intervalo_confianza(cv_resultados5)"
      ]
    },
    {
      "cell_type": "markdown",
      "metadata": {
        "id": "TJlXU-3aygZi"
      },
      "source": [
        "### Importancia del Recall en Churn\n",
        "\n",
        "El **recall** es especialmente importante en problemas de churn, ya que queremos **identificar correctamente a los clientes que sí se van a ir**.\n",
        "\n",
        "| Modelo                     | Intervalo de confianza (Recall) | Promedio aproximado |\n",
        "| -------------------------- | ------------------------------- | ----------------- |\n",
        "| **LogisticRegression**     | (0.6144, 0.7924)                | **0.703**         |\n",
        "| Árbol de Decisión          | (0.5443, 0.7604)                | 0.652             |\n",
        "| KNN                        | (0.5812, 0.7147)                | 0.648             |\n",
        "| SVC                        | (0.4914, 0.7140)                | 0.603             |\n",
        "| **RandomForestClassifier** | (0.7140, 0.8402)                | **0.777**         |\n",
        "\n",
        "---\n",
        "\n",
        "### Análisis rápido\n",
        "\n",
        "- **RandomForestClassifier** tiene el **recall promedio más alto** (0.777) y un intervalo superior consistente, lo que indica que es muy efectivo para detectar clientes que harán churn.  \n",
        "- **LogisticRegression** también tiene buen desempeño (0.703) y es más interpretable.  \n",
        "- Los demás modelos presentan recall más bajo y son menos confiables para detectar churn."
      ]
    },
    {
      "cell_type": "markdown",
      "metadata": {
        "id": "q1Mi5Rfvz40u"
      },
      "source": [
        "### Conclusión\n",
        "\n",
        "El mejor modelo según el **recall** es **RandomForestClassifier**, porque:\n",
        "\n",
        "- Tiene el **mayor recall promedio estimado** (≈ 0.777).  \n",
        "- Su **intervalo de confianza** es el más alto de todos.  \n",
        "- Presenta **mejor estabilidad**, ya que su mínimo (0.7140) es mayor que los promedios de otros modelos.  \n",
        "- Con este modelo se puede **maximizar la capacidad de detectar clientes que se van a ir**."
      ]
    },
    {
      "cell_type": "markdown",
      "metadata": {
        "id": "_cjyILfuRHbc"
      },
      "source": [
        "### Undersampling"
      ]
    },
    {
      "cell_type": "code",
      "execution_count": 274,
      "metadata": {
        "id": "K8-jLkDtRTh6"
      },
      "outputs": [],
      "source": [
        "from imblearn.under_sampling import NearMiss"
      ]
    },
    {
      "cell_type": "markdown",
      "metadata": {
        "id": "UJJRWOaaRlnP"
      },
      "source": [
        "### Modelo LogisticRegression"
      ]
    },
    {
      "cell_type": "code",
      "execution_count": 275,
      "metadata": {
        "colab": {
          "base_uri": "https://localhost:8080/",
          "height": 35
        },
        "id": "oQ0iVRpWRu7j",
        "outputId": "0bcc3f54-db54-4541-d44c-54ac95b63860"
      },
      "outputs": [
        {
          "data": {
            "text/plain": [
              "'El intervalo de confianza es de: 0.6945177305902167,0.7929056370664705'"
            ]
          },
          "execution_count": 275,
          "metadata": {},
          "output_type": "execute_result"
        }
      ],
      "source": [
        "pipeline = imbpipeline([('undersample',NearMiss(version = 3)),('logistic',modelo1)])\n",
        "skf = StratifiedKFold(n_splits=5,shuffle=True,random_state=5)\n",
        "cv_resultados1 = cross_validate(pipeline,X,y,cv=skf,scoring='recall')\n",
        "intervalo_confianza(cv_resultados1)"
      ]
    },
    {
      "cell_type": "markdown",
      "metadata": {
        "id": "yCdvb83hSz7B"
      },
      "source": [
        "### Modelo Árbol de Decisión"
      ]
    },
    {
      "cell_type": "code",
      "execution_count": 276,
      "metadata": {
        "colab": {
          "base_uri": "https://localhost:8080/",
          "height": 35
        },
        "id": "tKU0SZSvNAup",
        "outputId": "1afc63cc-98e8-445c-f288-e50e68e54d02"
      },
      "outputs": [
        {
          "data": {
            "text/plain": [
              "'El intervalo de confianza es de: 0.5856910137852092,0.71662035656973'"
            ]
          },
          "execution_count": 276,
          "metadata": {},
          "output_type": "execute_result"
        }
      ],
      "source": [
        "pipeline = imbpipeline([('undersample',NearMiss(version = 3)),('arbol',modelo2)])\n",
        "skf = StratifiedKFold(n_splits=5,shuffle=True,random_state=5)\n",
        "cv_resultados2 = cross_validate(pipeline,X,y,cv=skf,scoring='recall')\n",
        "intervalo_confianza(cv_resultados2)"
      ]
    },
    {
      "cell_type": "markdown",
      "metadata": {
        "id": "FM7jWt54TK7w"
      },
      "source": [
        "### Modelo KNN"
      ]
    },
    {
      "cell_type": "code",
      "execution_count": 277,
      "metadata": {
        "colab": {
          "base_uri": "https://localhost:8080/",
          "height": 35
        },
        "id": "L0fSy407TWhM",
        "outputId": "99aaa272-87d3-4fca-d03c-36cb95137069"
      },
      "outputs": [
        {
          "data": {
            "text/plain": [
              "'El intervalo de confianza es de: 0.4513162702145991,0.6268139998090106'"
            ]
          },
          "execution_count": 277,
          "metadata": {},
          "output_type": "execute_result"
        }
      ],
      "source": [
        "pipeline = imbpipeline([('undersample',NearMiss(version = 3)),('knn',modelo3)])\n",
        "skf = StratifiedKFold(n_splits=5,shuffle=True,random_state=5)\n",
        "cv_resultados3 = cross_validate(pipeline,X,y,cv=skf,scoring='recall')\n",
        "intervalo_confianza(cv_resultados3)"
      ]
    },
    {
      "cell_type": "markdown",
      "metadata": {
        "id": "PSM3VuBlTph_"
      },
      "source": [
        "### Modelo SVC (Support Vector Classifier)"
      ]
    },
    {
      "cell_type": "code",
      "execution_count": 278,
      "metadata": {
        "colab": {
          "base_uri": "https://localhost:8080/",
          "height": 35
        },
        "id": "p4-Vrl58Ttyz",
        "outputId": "c43f8109-f7c7-4cc2-a5a7-86fa8d7f56aa"
      },
      "outputs": [
        {
          "data": {
            "text/plain": [
              "'El intervalo de confianza es de: 0.41815287140305085,0.6222375815461783'"
            ]
          },
          "execution_count": 278,
          "metadata": {},
          "output_type": "execute_result"
        }
      ],
      "source": [
        "pipeline = imbpipeline([('undersample',NearMiss(version = 3)),('supportvector',modelo4)])\n",
        "skf = StratifiedKFold(n_splits=5,shuffle=True,random_state=5)\n",
        "cv_resultados4 = cross_validate(pipeline,X,y,cv=skf,scoring='recall')\n",
        "intervalo_confianza(cv_resultados4)"
      ]
    },
    {
      "cell_type": "markdown",
      "metadata": {
        "id": "V-Vuq1U4UG9D"
      },
      "source": [
        "### Modelo RamdomForetClassifier"
      ]
    },
    {
      "cell_type": "code",
      "execution_count": 279,
      "metadata": {
        "colab": {
          "base_uri": "https://localhost:8080/",
          "height": 35
        },
        "id": "HctIj9EGUMwy",
        "outputId": "c5b7d030-485e-49ac-a52c-e8f95f5091a8"
      },
      "outputs": [
        {
          "data": {
            "text/plain": [
              "'El intervalo de confianza es de: 0.5571841918990472,0.7589557204077597'"
            ]
          },
          "execution_count": 279,
          "metadata": {},
          "output_type": "execute_result"
        }
      ],
      "source": [
        "pipeline = imbpipeline([('undersample',NearMiss(version = 3)),('ramdomforet',modelo5)])\n",
        "skf = StratifiedKFold(n_splits=5,shuffle=True,random_state=5)\n",
        "cv_resultados5 = cross_validate(pipeline,X,y,cv=skf,scoring='recall')\n",
        "intervalo_confianza(cv_resultados5)"
      ]
    },
    {
      "cell_type": "markdown",
      "metadata": {
        "id": "IlOuU06mVY6I"
      },
      "source": [
        "### Probando los modelo"
      ]
    },
    {
      "cell_type": "code",
      "execution_count": 280,
      "metadata": {
        "id": "4AC6cK7AVe_o"
      },
      "outputs": [],
      "source": [
        "undersample = NearMiss(version=3)\n",
        "x_balanceada, y_balanceada = undersample.fit_resample(X,y)"
      ]
    },
    {
      "cell_type": "markdown",
      "metadata": {
        "id": "pgiARHNTVp7s"
      },
      "source": [
        "### Modelo LogisticRegression"
      ]
    },
    {
      "cell_type": "code",
      "execution_count": 281,
      "metadata": {
        "colab": {
          "base_uri": "https://localhost:8080/",
          "height": 666
        },
        "id": "a6-KYiq-V2gI",
        "outputId": "d0e4158f-c96e-48e1-8361-459cb2397dfa"
      },
      "outputs": [
        {
          "name": "stdout",
          "output_type": "stream",
          "text": [
            "              precision    recall  f1-score   support\n",
            "\n",
            "           0       0.89      0.72      0.80       810\n",
            "           1       0.48      0.73      0.58       281\n",
            "\n",
            "    accuracy                           0.73      1091\n",
            "   macro avg       0.68      0.73      0.69      1091\n",
            "weighted avg       0.78      0.73      0.74      1091\n",
            "\n"
          ]
        },
        {
          "data": {
            "image/png": "[encoded data removed]",
            "text/plain": [
              "<Figure size 640x480 with 2 Axes>"
            ]
          },
          "metadata": {},
          "output_type": "display_data"
        }
      ],
      "source": [
        "modelo1.fit(x_balanceada,y_balanceada)\n",
        "y_previsto = modelo1.predict(X_test)\n",
        "print(classification_report(y_test,y_previsto))\n",
        "ConfusionMatrixDisplay.from_predictions(y_test,y_previsto);"
      ]
    },
    {
      "cell_type": "markdown",
      "metadata": {
        "id": "4igGEBKrdbVj"
      },
      "source": [
        "### Modelo RamdomForetClassifier"
      ]
    },
    {
      "cell_type": "code",
      "execution_count": 282,
      "metadata": {
        "colab": {
          "base_uri": "https://localhost:8080/",
          "height": 666
        },
        "id": "_Hv1g7R9dgOF",
        "outputId": "87935c73-4d1f-4f60-871f-3487e8bda994"
      },
      "outputs": [
        {
          "name": "stdout",
          "output_type": "stream",
          "text": [
            "              precision    recall  f1-score   support\n",
            "\n",
            "           0       0.85      0.80      0.82       810\n",
            "           1       0.51      0.60      0.55       281\n",
            "\n",
            "    accuracy                           0.75      1091\n",
            "   macro avg       0.68      0.70      0.69      1091\n",
            "weighted avg       0.76      0.75      0.75      1091\n",
            "\n"
          ]
        },
        {
          "data": {
            "image/png": "[encoded data removed]",
            "text/plain": [
              "<Figure size 640x480 with 2 Axes>"
            ]
          },
          "metadata": {},
          "output_type": "display_data"
        }
      ],
      "source": [
        "modelo5.fit(x_balanceada,y_balanceada)\n",
        "y_previsto = modelo5.predict(X_test)\n",
        "print(classification_report(y_test,y_previsto))\n",
        "ConfusionMatrixDisplay.from_predictions(y_test,y_previsto);"
      ]
    },
    {
      "cell_type": "markdown",
      "metadata": {
        "id": "gcHAXix91yFI"
      },
      "source": [
        "### En esta evalucación de los cinco modelos los reportes de clasificación tras aplicar undersampling con NearMiss v3 y evaluar cada modelo sobre el conjunto de prueba (X_test, y_test) son:\n"
      ]
    },
    {
      "cell_type": "code",
      "execution_count": 283,
      "metadata": {
        "colab": {
          "base_uri": "https://localhost:8080/",
          "height": 259
        },
        "id": "X1fkVNLZGD3n",
        "outputId": "d085b4bb-9e64-4afe-93d0-b8f85c78b9e7"
      },
      "outputs": [
        {
          "data": {
            "image/png": "[encoded data removed]",
            "text/plain": [
              "<Figure size 1200x300 with 1 Axes>"
            ]
          },
          "metadata": {},
          "output_type": "display_data"
        }
      ],
      "source": [
        "import pandas as pd\n",
        "import matplotlib.pyplot as plt\n",
        "\n",
        "# Crear la tabla de resultados\n",
        "data = {\n",
        "    'Modelo': ['Modelo 1', 'Modelo 2', 'Modelo 3', 'Modelo 4', 'Modelo 5'],\n",
        "    'Precision (Churn=1)': [0.48, 0.40, 0.44, 0.38, 0.51],\n",
        "    'Recall (Churn=1)':    [0.73, 0.64, 0.51, 0.51, 0.60],\n",
        "    'F1-Score (Churn=1)':  [0.58, 0.49, 0.47, 0.43, 0.55],\n",
        "    'Accuracy':            [0.73, 0.66, 0.70, 0.66, 0.75]\n",
        "}\n",
        "\n",
        "df = pd.DataFrame(data)\n",
        "\n",
        "# Mostrar tabla con tamaño de fuente grande\n",
        "fig, ax = plt.subplots(figsize=(12, 3))\n",
        "ax.axis('off')\n",
        "tabla = ax.table(cellText=df.values,\n",
        "                 colLabels=df.columns,\n",
        "                 cellLoc='center',\n",
        "                 loc='center')\n",
        "\n",
        "tabla.auto_set_font_size(False)\n",
        "tabla.set_fontsize(14)\n",
        "tabla.scale(2, 2)  # ancho x alto de las celdas\n",
        "\n",
        "plt.title(\"Comparativa de Modelos con Undersampling (NearMiss v3)\", fontsize=18, weight='bold')\n",
        "plt.show()\n"
      ]
    },
    {
      "cell_type": "markdown",
      "metadata": {
        "id": "1Kkg-HuwXn9d"
      },
      "source": [
        "### Evaluación tras aplicar Undersampling (NearMiss v3)\n",
        "\n",
        "Tras aplicar técnicas de **undersampling** para corregir el desbalance de clases en los datos de clientes, se evaluaron cinco modelos de Machine Learning para predecir la **cancelación de servicios (Churn)**.\n",
        "\n",
        "---\n",
        "\n",
        "### Hallazgos clave\n",
        "\n",
        "- **Modelo 1**\n",
        "  - **Recall:** 0.73  \n",
        "  - Detecta la **mayor cantidad de clientes en riesgo** de cancelar el servicio.  \n",
        "  - Opción **agresiva**, adecuada cuando el **costo de no detectar un churner es alto**.\n",
        "\n",
        "- **Modelo 5**\n",
        "  - **Precisión:** 0.51  \n",
        "  - **Exactitud general:** 0.75  \n",
        "  - Opción **conservadora y precisa**, ideal para campañas donde se busca **minimizar falsas alarmas** hacia clientes fieles."
      ]
    },
    {
      "cell_type": "markdown",
      "metadata": {
        "id": "0sGrdtnZ9ANm"
      },
      "source": [
        "### Optimización hiperparámetros"
      ]
    },
    {
      "cell_type": "code",
      "execution_count": 284,
      "metadata": {
        "colab": {
          "base_uri": "https://localhost:8080/"
        },
        "id": "oHCoKHxaAlIg",
        "outputId": "657d3ff5-dcf4-406b-beee-4aedc2cca17e"
      },
      "outputs": [
        {
          "data": {
            "text/plain": [
              "Index(['Churn', 'gender', 'SeniorCitizen', 'Partner', 'Dependents', 'tenure',\n",
              "       'PhoneService', 'MultipleLines', 'InternetService', 'OnlineSecurity',\n",
              "       'OnlineBackup', 'DeviceProtection', 'TechSupport', 'StreamingTV',\n",
              "       'StreamingMovies', 'Contract', 'PaperlessBilling', 'PaymentMethod',\n",
              "       'Charges.Monthly', 'Charges.Total'],\n",
              "      dtype='object')"
            ]
          },
          "execution_count": 284,
          "metadata": {},
          "output_type": "execute_result"
        }
      ],
      "source": [
        "TelecomX2.columns\n"
      ]
    },
    {
      "cell_type": "code",
      "execution_count": 285,
      "metadata": {
        "colab": {
          "base_uri": "https://localhost:8080/"
        },
        "id": "ajWUGwzIBDbF",
        "outputId": "4112def1-80f4-48a7-8672-fadb68750f7a"
      },
      "outputs": [
        {
          "data": {
            "text/plain": [
              "20"
            ]
          },
          "execution_count": 285,
          "metadata": {},
          "output_type": "execute_result"
        }
      ],
      "source": [
        "len(TelecomX2.columns)"
      ]
    },
    {
      "cell_type": "code",
      "execution_count": 286,
      "metadata": {
        "colab": {
          "base_uri": "https://localhost:8080/",
          "height": 364
        },
        "id": "VszzklI7_dDV",
        "outputId": "66783630-0ea6-4302-e92c-7b0278c3acd1"
      },
      "outputs": [
        {
          "data": {
            "text/html": [
              "<div>\n",
              "<style scoped>\n",
              "    .dataframe tbody tr th:only-of-type {\n",
              "        vertical-align: middle;\n",
              "    }\n",
              "\n",
              "    .dataframe tbody tr th {\n",
              "        vertical-align: top;\n",
              "    }\n",
              "\n",
              "    .dataframe thead th {\n",
              "        text-align: right;\n",
              "    }\n",
              "</style>\n",
              "<table border=\"1\" class=\"dataframe\">\n",
              "  <thead>\n",
              "    <tr style=\"text-align: right;\">\n",
              "      <th></th>\n",
              "      <th>Variable</th>\n",
              "      <th>Coeficiente</th>\n",
              "      <th>Odds Ratio</th>\n",
              "      <th>Importancia absoluta</th>\n",
              "    </tr>\n",
              "  </thead>\n",
              "  <tbody>\n",
              "    <tr>\n",
              "      <th>11</th>\n",
              "      <td>TechSupport</td>\n",
              "      <td>-0.641505</td>\n",
              "      <td>0.526499</td>\n",
              "      <td>0.641505</td>\n",
              "    </tr>\n",
              "    <tr>\n",
              "      <th>8</th>\n",
              "      <td>OnlineSecurity</td>\n",
              "      <td>-0.600815</td>\n",
              "      <td>0.548365</td>\n",
              "      <td>0.600815</td>\n",
              "    </tr>\n",
              "    <tr>\n",
              "      <th>15</th>\n",
              "      <td>PaperlessBilling</td>\n",
              "      <td>0.513853</td>\n",
              "      <td>1.671721</td>\n",
              "      <td>0.513853</td>\n",
              "    </tr>\n",
              "    <tr>\n",
              "      <th>14</th>\n",
              "      <td>Contract</td>\n",
              "      <td>-0.335318</td>\n",
              "      <td>0.715111</td>\n",
              "      <td>0.335318</td>\n",
              "    </tr>\n",
              "    <tr>\n",
              "      <th>1</th>\n",
              "      <td>SeniorCitizen</td>\n",
              "      <td>0.292395</td>\n",
              "      <td>1.339632</td>\n",
              "      <td>0.292395</td>\n",
              "    </tr>\n",
              "    <tr>\n",
              "      <th>9</th>\n",
              "      <td>OnlineBackup</td>\n",
              "      <td>-0.292311</td>\n",
              "      <td>0.746536</td>\n",
              "      <td>0.292311</td>\n",
              "    </tr>\n",
              "    <tr>\n",
              "      <th>7</th>\n",
              "      <td>InternetService</td>\n",
              "      <td>0.275011</td>\n",
              "      <td>1.316546</td>\n",
              "      <td>0.275011</td>\n",
              "    </tr>\n",
              "    <tr>\n",
              "      <th>3</th>\n",
              "      <td>Dependents</td>\n",
              "      <td>-0.209623</td>\n",
              "      <td>0.810890</td>\n",
              "      <td>0.209623</td>\n",
              "    </tr>\n",
              "    <tr>\n",
              "      <th>16</th>\n",
              "      <td>PaymentMethod</td>\n",
              "      <td>-0.154245</td>\n",
              "      <td>0.857062</td>\n",
              "      <td>0.154245</td>\n",
              "    </tr>\n",
              "    <tr>\n",
              "      <th>5</th>\n",
              "      <td>PhoneService</td>\n",
              "      <td>-0.093147</td>\n",
              "      <td>0.911060</td>\n",
              "      <td>0.093147</td>\n",
              "    </tr>\n",
              "  </tbody>\n",
              "</table>\n",
              "</div>"
            ],
            "text/plain": [
              "            Variable  Coeficiente  Odds Ratio  Importancia absoluta\n",
              "11       TechSupport    -0.641505    0.526499              0.641505\n",
              "8     OnlineSecurity    -0.600815    0.548365              0.600815\n",
              "15  PaperlessBilling     0.513853    1.671721              0.513853\n",
              "14          Contract    -0.335318    0.715111              0.335318\n",
              "1      SeniorCitizen     0.292395    1.339632              0.292395\n",
              "9       OnlineBackup    -0.292311    0.746536              0.292311\n",
              "7    InternetService     0.275011    1.316546              0.275011\n",
              "3         Dependents    -0.209623    0.810890              0.209623\n",
              "16     PaymentMethod    -0.154245    0.857062              0.154245\n",
              "5       PhoneService    -0.093147    0.911060              0.093147"
            ]
          },
          "execution_count": 286,
          "metadata": {},
          "output_type": "execute_result"
        }
      ],
      "source": [
        "import numpy as np\n",
        "import pandas as pd\n",
        "\n",
        "# Obtener los coeficientes\n",
        "coefs = modelo1.coef_[0]\n",
        "variables = X.columns  # Asumiendo que X es un DataFrame\n",
        "\n",
        "# Crear DataFrame con resultados\n",
        "tabla_coef = pd.DataFrame({\n",
        "    'Variable': variables,\n",
        "    'Coeficiente': coefs,\n",
        "    'Odds Ratio': np.exp(coefs),\n",
        "    'Importancia absoluta': np.abs(coefs)\n",
        "}).sort_values(by='Importancia absoluta', ascending=False)\n",
        "\n",
        "# Mostrar top 10\n",
        "tabla_coef.head(10)\n"
      ]
    },
    {
      "cell_type": "code",
      "execution_count": 287,
      "metadata": {
        "colab": {
          "base_uri": "https://localhost:8080/"
        },
        "id": "a5qLItZJjSO9",
        "outputId": "a10e408c-9e28-47e8-a0e4-67530b4dbb76"
      },
      "outputs": [
        {
          "name": "stdout",
          "output_type": "stream",
          "text": [
            "Mejores hiperparámetros: {'logistic__C': 100, 'logistic__penalty': 'l1'}\n",
            "Mejor recall promedio: 0.7512747257107713\n"
          ]
        },
        {
          "data": {
            "text/plain": [
              "['champion.pkl']"
            ]
          },
          "execution_count": 287,
          "metadata": {},
          "output_type": "execute_result"
        }
      ],
      "source": [
        "from sklearn.linear_model import LogisticRegression\n",
        "from sklearn.model_selection import GridSearchCV, StratifiedKFold\n",
        "from imblearn.pipeline import Pipeline as imbpipeline\n",
        "from imblearn.under_sampling import NearMiss\n",
        "\n",
        "# Modelo base\n",
        "modelo1 = LogisticRegression(solver='liblinear',random_state=42)\n",
        "\n",
        "# Pipeline con NearMiss y modelo\n",
        "pipeline = imbpipeline([\n",
        "    ('undersample', NearMiss(version=3)),\n",
        "    ('logistic', modelo1)\n",
        "])\n",
        "\n",
        "# Grid de hiperparámetros\n",
        "param_grid = {\n",
        "    'logistic__C': [0.01, 0.1, 1, 10, 100],\n",
        "    'logistic__penalty': ['l1', 'l2']\n",
        "}\n",
        "\n",
        "# Validación cruzada\n",
        "cv = StratifiedKFold(n_splits=5, shuffle=True, random_state=5)\n",
        "\n",
        "# GridSearchCV optimizando recall\n",
        "grid = GridSearchCV(pipeline, param_grid=param_grid, cv=cv, scoring='recall', n_jobs=-1)\n",
        "grid.fit(X, y)\n",
        "\n",
        "# Resultados\n",
        "print(\"Mejores hiperparámetros:\", grid.best_params_)\n",
        "print(\"Mejor recall promedio:\", grid.best_score_)\n",
        "\n",
        "# Guardar modelo optimizado\n",
        "import joblib\n",
        "joblib.dump(grid.best_estimator_, 'champion.pkl')\n"
      ]
    },
    {
      "cell_type": "markdown",
      "metadata": {
        "id": "5HT5tZ_sWl-0"
      },
      "source": [
        "### Conclusión\n",
        "\n",
        "### Luego de aplicar técnicas de Optimización de hiperparámetros el recall del Modelo 1 tuvo una mejora de 0,75 logrando detectar la mayor cantidad de clientes en riesgo de cancelar el servicio.En consecuencia el Modelo 1 (Regresión logística (LogisticRegression)), es el que optimiza mejor la sensibilidad del sistema.\n"
      ]
    },
    {
      "cell_type": "markdown",
      "metadata": {
        "id": "R2a3vNG4Efbj"
      },
      "source": [
        "### Insights Finales Basados en la Correlación con Churn\n",
        "\n",
        "#### Factores que Aumentan la Probabilidad de Cancelación\n",
        "1. **Altos Cargos Mensuales (`Charges.Monthly`, +0.19)**  \n",
        "   Clientes con facturas mensuales más altas tienden a cancelar más, posiblemente por una percepción de bajo valor en relación al costo.\n",
        "\n",
        "2. **Facturación Electrónica (`PaperlessBilling`, +0.19)**  \n",
        "   Usuarios que reciben facturación digital presentan mayor churn. Puede estar vinculado a perfiles más jóvenes y digitales, propensos a cambiar de proveedor.\n",
        "\n",
        "3. **Adultos Mayores (`SeniorCitizen`, +0.15)**  \n",
        "   Ligeramente más propensos a cancelar, probablemente por ingresos fijos o menor afinidad con servicios tecnológicos.\n",
        "\n",
        "4. **Servicios de Streaming (`StreamingTV` / `StreamingMovies`, +0.06)**  \n",
        "   Tener estos servicios no garantiza permanencia. Puede reflejar usuarios exigentes o acostumbrados a comparar.\n",
        "\n",
        "5. **Múltiples Líneas (`MultipleLines`, +0.04)**  \n",
        "   No se asocia fuertemente con retención. Tal vez sea un servicio fácilmente reemplazable por promociones de la competencia.\n",
        "\n",
        "---\n",
        "\n",
        "#### Factores que Disminuyen la Probabilidad de Cancelación\n",
        "1. **Antigüedad del Cliente (`tenure`, –0.34)**  \n",
        "   A mayor tiempo con la empresa, menor probabilidad de baja. Es fundamental trabajar la retención en los primeros meses.\n",
        "\n",
        "2. **Tipo de Contrato (`Contract`, –0.33)**  \n",
        "   Contratos a plazo fijo (anual, bianual) reducen significativamente el churn, indicando compromiso y fidelidad.\n",
        "\n",
        "3. **Tipo de Internet (`InternetService`, –0.31)**  \n",
        "   Servicios de mejor calidad (como fibra óptica) están asociados con menor churn. La calidad del servicio es clave.\n",
        "\n",
        "4. **Método de Pago (`PaymentMethod`, –0.26)**  \n",
        "   Métodos como débito automático muestran menor tasa de cancelación, indicando estabilidad financiera o menor fricción.\n",
        "\n",
        "5. **Gasto Total (`Charges.Total`, –0.19)**  \n",
        "   Clientes que ya han invertido más en la empresa tienden a quedarse, debido al “efecto inversión” o “costos hundidos”.\n",
        "\n",
        "6. **Servicios de Valor Agregado (`OnlineSecurity`, `TechSupport`, –0.16)**  \n",
        "   Mejoran la percepción de calidad y satisfacción, favoreciendo la retención.\n",
        "\n",
        "7. **Vínculos Personales (`Partner`, `Dependents`, –0.15)**  \n",
        "   Clientes con familia o pareja tienen menor churn, posiblemente por mayor estabilidad o decisiones compartidas.\n",
        "\n",
        "---\n",
        "\n",
        "### Recomendaciones Estratégicas\n",
        "- **Fidelizar a nuevos clientes durante los primeros meses**, con beneficios personalizados o atención diferencial.  \n",
        "- **Promover contratos a largo plazo**, mediante descuentos, promociones exclusivas o mejoras en el servicio.  \n",
        "- **Fomentar métodos de pago automáticos**, ofreciendo incentivos para reducir cancelaciones por olvido o problemas administrativos.  \n",
        "- **Detectar clientes con altos cargos mensuales** y ofrecerles mejoras o bonificaciones personalizadas.  \n",
        "- **Ofrecer servicios de valor agregado**, como seguridad en línea o soporte técnico premium, para fidelización.  \n",
        "- **Segmentar campañas de retención** según tipo de cliente (edad, perfil digital, estado civil, presencia de dependientes).  "
      ]
    }
  ],
  "metadata": {
    "colab": {
      "provenance": []
    },
    "kernelspec": {
      "display_name": "Alura",
      "language": "python",
      "name": "python3"
    },
    "language_info": {
      "codemirror_mode": {
        "name": "ipython",
        "version": 3
      },
      "file_extension": ".py",
      "mimetype": "text/x-python",
      "name": "python",
      "nbconvert_exporter": "python",
      "pygments_lexer": "ipython3",
      "version": "3.13.3"
    }
  },
  "nbformat": 4,
  "nbformat_minor": 0
}
